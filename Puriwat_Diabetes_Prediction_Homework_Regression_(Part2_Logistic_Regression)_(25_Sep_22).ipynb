{
  "nbformat": 4,
  "nbformat_minor": 0,
  "metadata": {
    "colab": {
      "provenance": [],
      "mount_file_id": "1CBdHfZDliJ6zYeSgdPuEa8tD4e0UjMjD",
      "authorship_tag": "ABX9TyMuLA1MJNJqwFSR6uLpNKRz",
      "include_colab_link": true
    },
    "kernelspec": {
      "name": "python3",
      "display_name": "Python 3"
    },
    "language_info": {
      "name": "python"
    }
  },
  "cells": [
    {
      "cell_type": "markdown",
      "metadata": {
        "id": "view-in-github",
        "colab_type": "text"
      },
      "source": [
        "<a href=\"https://colab.research.google.com/github/Pongpang-2102/Programming_and_Data_Science_Project_2022-2024/blob/main/Puriwat_Diabetes_Prediction_Homework_Regression_(Part2_Logistic_Regression)_(25_Sep_22).ipynb\" target=\"_parent\"><img src=\"https://colab.research.google.com/assets/colab-badge.svg\" alt=\"Open In Colab\"/></a>"
      ]
    },
    {
      "cell_type": "markdown",
      "source": [
        "# Homework (Linear Regression & Logistic Regression Analysis)\n",
        "\n",
        "- Subject : Applied Statistical Modeling & Data Analytics  (K-DAI)\n",
        "- Due date : 28-Sep-22\n",
        "- Author : Puriwat Sangrawee ( นายภูริวัฒน์ แสงระวี)\n",
        "- Student ID : 65056071\n",
        "\n",
        "\n",
        "- This file is part 2 of total 2 parts\n",
        "\n"
      ],
      "metadata": {
        "id": "0JIHto-4p9Pt"
      }
    },
    {
      "cell_type": "markdown",
      "source": [
        "# Part 2. Logistic Regression "
      ],
      "metadata": {
        "id": "4JDUgcBUqEtH"
      }
    },
    {
      "cell_type": "markdown",
      "source": [
        "## 2.1 Dateset Reference"
      ],
      "metadata": {
        "id": "jixcszhdrtyY"
      }
    },
    {
      "cell_type": "markdown",
      "source": [
        "- ในการวิเคราะห์ข้อมูลด้วย Linear Regresssion ผมใช้ Dataset จาก Kaggle ในหัวข้อเรื่อง `Pima Indians Diabetes Database` \n",
        "\n",
        "-  โดยสามารถ download dataset นีได้จาก https://www.kaggle.com/datasets/uciml/pima-indians-diabetes-database?fbclid=IwAR2W8j52SPXMLzWTYYxXvhJEjWi5I5XWDtR8SqCJkA5zp8F9sZkDU3EDudA"
      ],
      "metadata": {
        "id": "i03aIvY7jpRo"
      }
    },
    {
      "cell_type": "markdown",
      "source": [
        "## 2.2 Step of Study"
      ],
      "metadata": {
        "id": "aif9J8m0myJE"
      }
    },
    {
      "cell_type": "markdown",
      "source": [
        "### 2.2.0 Import Dataset , Neccessary Library  and Data Overview"
      ],
      "metadata": {
        "id": "ntRcmci5nfpT"
      }
    },
    {
      "cell_type": "code",
      "source": [
        "# import libarary\n",
        "\n",
        "import numpy as np\n",
        "import pandas as pd\n",
        "import seaborn as sns\n",
        "import matplotlib.pyplot as plt\n",
        "import os \n",
        "from sklearn.model_selection import train_test_split , cross_val_score\n",
        "from sklearn import linear_model as LM\n",
        "from sklearn.linear_model import LogisticRegression  ,LinearRegression, LassoCV, RidgeCV , Ridge , Lasso\n",
        "from sklearn.preprocessing import StandardScaler\n",
        "from sklearn.metrics import classification_report, confusion_matrix , accuracy_score\n",
        "\n",
        "import warnings\n",
        "warnings.filterwarnings(\"ignore\")\n"
      ],
      "metadata": {
        "id": "lxQHFtTZrilD"
      },
      "execution_count": null,
      "outputs": []
    },
    {
      "cell_type": "code",
      "execution_count": null,
      "metadata": {
        "id": "Hq3h--52pvfy",
        "colab": {
          "base_uri": "https://localhost:8080/"
        },
        "outputId": "36e77b4f-b9de-4a82-fc02-566d61f6437e"
      },
      "outputs": [
        {
          "output_type": "stream",
          "name": "stdout",
          "text": [
            "Number of  Row and column :\n",
            "Row =  768 \n",
            "Column = 9\n"
          ]
        }
      ],
      "source": [
        "# to read file and store it at object df\n",
        "df = pd.read_csv('/content/drive/MyDrive/# K-Dai Dataset/diabetes.csv')\n",
        "\n",
        "# to view the number of row and column for this dataframe\n",
        "print(\"Number of  Row and column :\\nRow = \",df.shape[0],\"\\nColumn =\",df.shape[1] )"
      ]
    },
    {
      "cell_type": "code",
      "source": [
        "# to view all column name\n",
        "df.columns"
      ],
      "metadata": {
        "id": "doKcNbKSriXc",
        "colab": {
          "base_uri": "https://localhost:8080/"
        },
        "outputId": "7e79447d-f49a-4935-aca8-178f33aad0f8"
      },
      "execution_count": null,
      "outputs": [
        {
          "output_type": "execute_result",
          "data": {
            "text/plain": [
              "Index(['Pregnancies', 'Glucose', 'BloodPressure', 'SkinThickness', 'Insulin',\n",
              "       'BMI', 'DiabetesPedigreeFunction', 'Age', 'Outcome'],\n",
              "      dtype='object')"
            ]
          },
          "metadata": {},
          "execution_count": 3
        }
      ]
    },
    {
      "cell_type": "code",
      "source": [
        "# to view data head\n",
        "df.head(5)"
      ],
      "metadata": {
        "id": "lITGiUHGriFC",
        "colab": {
          "base_uri": "https://localhost:8080/",
          "height": 206
        },
        "outputId": "06431df3-69b0-4516-eb31-22f5f9366258"
      },
      "execution_count": null,
      "outputs": [
        {
          "output_type": "execute_result",
          "data": {
            "text/plain": [
              "   Pregnancies  Glucose  BloodPressure  SkinThickness  Insulin   BMI  \\\n",
              "0            6      148             72             35        0  33.6   \n",
              "1            1       85             66             29        0  26.6   \n",
              "2            8      183             64              0        0  23.3   \n",
              "3            1       89             66             23       94  28.1   \n",
              "4            0      137             40             35      168  43.1   \n",
              "\n",
              "   DiabetesPedigreeFunction  Age  Outcome  \n",
              "0                     0.627   50        1  \n",
              "1                     0.351   31        0  \n",
              "2                     0.672   32        1  \n",
              "3                     0.167   21        0  \n",
              "4                     2.288   33        1  "
            ],
            "text/html": [
              "\n",
              "  <div id=\"df-e598043e-73c8-4275-934a-877ee6dfa229\">\n",
              "    <div class=\"colab-df-container\">\n",
              "      <div>\n",
              "<style scoped>\n",
              "    .dataframe tbody tr th:only-of-type {\n",
              "        vertical-align: middle;\n",
              "    }\n",
              "\n",
              "    .dataframe tbody tr th {\n",
              "        vertical-align: top;\n",
              "    }\n",
              "\n",
              "    .dataframe thead th {\n",
              "        text-align: right;\n",
              "    }\n",
              "</style>\n",
              "<table border=\"1\" class=\"dataframe\">\n",
              "  <thead>\n",
              "    <tr style=\"text-align: right;\">\n",
              "      <th></th>\n",
              "      <th>Pregnancies</th>\n",
              "      <th>Glucose</th>\n",
              "      <th>BloodPressure</th>\n",
              "      <th>SkinThickness</th>\n",
              "      <th>Insulin</th>\n",
              "      <th>BMI</th>\n",
              "      <th>DiabetesPedigreeFunction</th>\n",
              "      <th>Age</th>\n",
              "      <th>Outcome</th>\n",
              "    </tr>\n",
              "  </thead>\n",
              "  <tbody>\n",
              "    <tr>\n",
              "      <th>0</th>\n",
              "      <td>6</td>\n",
              "      <td>148</td>\n",
              "      <td>72</td>\n",
              "      <td>35</td>\n",
              "      <td>0</td>\n",
              "      <td>33.6</td>\n",
              "      <td>0.627</td>\n",
              "      <td>50</td>\n",
              "      <td>1</td>\n",
              "    </tr>\n",
              "    <tr>\n",
              "      <th>1</th>\n",
              "      <td>1</td>\n",
              "      <td>85</td>\n",
              "      <td>66</td>\n",
              "      <td>29</td>\n",
              "      <td>0</td>\n",
              "      <td>26.6</td>\n",
              "      <td>0.351</td>\n",
              "      <td>31</td>\n",
              "      <td>0</td>\n",
              "    </tr>\n",
              "    <tr>\n",
              "      <th>2</th>\n",
              "      <td>8</td>\n",
              "      <td>183</td>\n",
              "      <td>64</td>\n",
              "      <td>0</td>\n",
              "      <td>0</td>\n",
              "      <td>23.3</td>\n",
              "      <td>0.672</td>\n",
              "      <td>32</td>\n",
              "      <td>1</td>\n",
              "    </tr>\n",
              "    <tr>\n",
              "      <th>3</th>\n",
              "      <td>1</td>\n",
              "      <td>89</td>\n",
              "      <td>66</td>\n",
              "      <td>23</td>\n",
              "      <td>94</td>\n",
              "      <td>28.1</td>\n",
              "      <td>0.167</td>\n",
              "      <td>21</td>\n",
              "      <td>0</td>\n",
              "    </tr>\n",
              "    <tr>\n",
              "      <th>4</th>\n",
              "      <td>0</td>\n",
              "      <td>137</td>\n",
              "      <td>40</td>\n",
              "      <td>35</td>\n",
              "      <td>168</td>\n",
              "      <td>43.1</td>\n",
              "      <td>2.288</td>\n",
              "      <td>33</td>\n",
              "      <td>1</td>\n",
              "    </tr>\n",
              "  </tbody>\n",
              "</table>\n",
              "</div>\n",
              "      <button class=\"colab-df-convert\" onclick=\"convertToInteractive('df-e598043e-73c8-4275-934a-877ee6dfa229')\"\n",
              "              title=\"Convert this dataframe to an interactive table.\"\n",
              "              style=\"display:none;\">\n",
              "        \n",
              "  <svg xmlns=\"http://www.w3.org/2000/svg\" height=\"24px\"viewBox=\"0 0 24 24\"\n",
              "       width=\"24px\">\n",
              "    <path d=\"M0 0h24v24H0V0z\" fill=\"none\"/>\n",
              "    <path d=\"M18.56 5.44l.94 2.06.94-2.06 2.06-.94-2.06-.94-.94-2.06-.94 2.06-2.06.94zm-11 1L8.5 8.5l.94-2.06 2.06-.94-2.06-.94L8.5 2.5l-.94 2.06-2.06.94zm10 10l.94 2.06.94-2.06 2.06-.94-2.06-.94-.94-2.06-.94 2.06-2.06.94z\"/><path d=\"M17.41 7.96l-1.37-1.37c-.4-.4-.92-.59-1.43-.59-.52 0-1.04.2-1.43.59L10.3 9.45l-7.72 7.72c-.78.78-.78 2.05 0 2.83L4 21.41c.39.39.9.59 1.41.59.51 0 1.02-.2 1.41-.59l7.78-7.78 2.81-2.81c.8-.78.8-2.07 0-2.86zM5.41 20L4 18.59l7.72-7.72 1.47 1.35L5.41 20z\"/>\n",
              "  </svg>\n",
              "      </button>\n",
              "      \n",
              "  <style>\n",
              "    .colab-df-container {\n",
              "      display:flex;\n",
              "      flex-wrap:wrap;\n",
              "      gap: 12px;\n",
              "    }\n",
              "\n",
              "    .colab-df-convert {\n",
              "      background-color: #E8F0FE;\n",
              "      border: none;\n",
              "      border-radius: 50%;\n",
              "      cursor: pointer;\n",
              "      display: none;\n",
              "      fill: #1967D2;\n",
              "      height: 32px;\n",
              "      padding: 0 0 0 0;\n",
              "      width: 32px;\n",
              "    }\n",
              "\n",
              "    .colab-df-convert:hover {\n",
              "      background-color: #E2EBFA;\n",
              "      box-shadow: 0px 1px 2px rgba(60, 64, 67, 0.3), 0px 1px 3px 1px rgba(60, 64, 67, 0.15);\n",
              "      fill: #174EA6;\n",
              "    }\n",
              "\n",
              "    [theme=dark] .colab-df-convert {\n",
              "      background-color: #3B4455;\n",
              "      fill: #D2E3FC;\n",
              "    }\n",
              "\n",
              "    [theme=dark] .colab-df-convert:hover {\n",
              "      background-color: #434B5C;\n",
              "      box-shadow: 0px 1px 3px 1px rgba(0, 0, 0, 0.15);\n",
              "      filter: drop-shadow(0px 1px 2px rgba(0, 0, 0, 0.3));\n",
              "      fill: #FFFFFF;\n",
              "    }\n",
              "  </style>\n",
              "\n",
              "      <script>\n",
              "        const buttonEl =\n",
              "          document.querySelector('#df-e598043e-73c8-4275-934a-877ee6dfa229 button.colab-df-convert');\n",
              "        buttonEl.style.display =\n",
              "          google.colab.kernel.accessAllowed ? 'block' : 'none';\n",
              "\n",
              "        async function convertToInteractive(key) {\n",
              "          const element = document.querySelector('#df-e598043e-73c8-4275-934a-877ee6dfa229');\n",
              "          const dataTable =\n",
              "            await google.colab.kernel.invokeFunction('convertToInteractive',\n",
              "                                                     [key], {});\n",
              "          if (!dataTable) return;\n",
              "\n",
              "          const docLinkHtml = 'Like what you see? Visit the ' +\n",
              "            '<a target=\"_blank\" href=https://colab.research.google.com/notebooks/data_table.ipynb>data table notebook</a>'\n",
              "            + ' to learn more about interactive tables.';\n",
              "          element.innerHTML = '';\n",
              "          dataTable['output_type'] = 'display_data';\n",
              "          await google.colab.output.renderOutput(dataTable, element);\n",
              "          const docLink = document.createElement('div');\n",
              "          docLink.innerHTML = docLinkHtml;\n",
              "          element.appendChild(docLink);\n",
              "        }\n",
              "      </script>\n",
              "    </div>\n",
              "  </div>\n",
              "  "
            ]
          },
          "metadata": {},
          "execution_count": 4
        }
      ]
    },
    {
      "cell_type": "code",
      "source": [
        "# to view data tail\n",
        "df.tail(5)"
      ],
      "metadata": {
        "colab": {
          "base_uri": "https://localhost:8080/",
          "height": 206
        },
        "id": "8ogPPVKs5YuZ",
        "outputId": "2e2b2163-a357-4481-824a-2d95e8592a4f"
      },
      "execution_count": null,
      "outputs": [
        {
          "output_type": "execute_result",
          "data": {
            "text/plain": [
              "     Pregnancies  Glucose  BloodPressure  SkinThickness  Insulin   BMI  \\\n",
              "763           10      101             76             48      180  32.9   \n",
              "764            2      122             70             27        0  36.8   \n",
              "765            5      121             72             23      112  26.2   \n",
              "766            1      126             60              0        0  30.1   \n",
              "767            1       93             70             31        0  30.4   \n",
              "\n",
              "     DiabetesPedigreeFunction  Age  Outcome  \n",
              "763                     0.171   63        0  \n",
              "764                     0.340   27        0  \n",
              "765                     0.245   30        0  \n",
              "766                     0.349   47        1  \n",
              "767                     0.315   23        0  "
            ],
            "text/html": [
              "\n",
              "  <div id=\"df-406e7d3f-bf4c-44c1-b60f-df8f4bc481e6\">\n",
              "    <div class=\"colab-df-container\">\n",
              "      <div>\n",
              "<style scoped>\n",
              "    .dataframe tbody tr th:only-of-type {\n",
              "        vertical-align: middle;\n",
              "    }\n",
              "\n",
              "    .dataframe tbody tr th {\n",
              "        vertical-align: top;\n",
              "    }\n",
              "\n",
              "    .dataframe thead th {\n",
              "        text-align: right;\n",
              "    }\n",
              "</style>\n",
              "<table border=\"1\" class=\"dataframe\">\n",
              "  <thead>\n",
              "    <tr style=\"text-align: right;\">\n",
              "      <th></th>\n",
              "      <th>Pregnancies</th>\n",
              "      <th>Glucose</th>\n",
              "      <th>BloodPressure</th>\n",
              "      <th>SkinThickness</th>\n",
              "      <th>Insulin</th>\n",
              "      <th>BMI</th>\n",
              "      <th>DiabetesPedigreeFunction</th>\n",
              "      <th>Age</th>\n",
              "      <th>Outcome</th>\n",
              "    </tr>\n",
              "  </thead>\n",
              "  <tbody>\n",
              "    <tr>\n",
              "      <th>763</th>\n",
              "      <td>10</td>\n",
              "      <td>101</td>\n",
              "      <td>76</td>\n",
              "      <td>48</td>\n",
              "      <td>180</td>\n",
              "      <td>32.9</td>\n",
              "      <td>0.171</td>\n",
              "      <td>63</td>\n",
              "      <td>0</td>\n",
              "    </tr>\n",
              "    <tr>\n",
              "      <th>764</th>\n",
              "      <td>2</td>\n",
              "      <td>122</td>\n",
              "      <td>70</td>\n",
              "      <td>27</td>\n",
              "      <td>0</td>\n",
              "      <td>36.8</td>\n",
              "      <td>0.340</td>\n",
              "      <td>27</td>\n",
              "      <td>0</td>\n",
              "    </tr>\n",
              "    <tr>\n",
              "      <th>765</th>\n",
              "      <td>5</td>\n",
              "      <td>121</td>\n",
              "      <td>72</td>\n",
              "      <td>23</td>\n",
              "      <td>112</td>\n",
              "      <td>26.2</td>\n",
              "      <td>0.245</td>\n",
              "      <td>30</td>\n",
              "      <td>0</td>\n",
              "    </tr>\n",
              "    <tr>\n",
              "      <th>766</th>\n",
              "      <td>1</td>\n",
              "      <td>126</td>\n",
              "      <td>60</td>\n",
              "      <td>0</td>\n",
              "      <td>0</td>\n",
              "      <td>30.1</td>\n",
              "      <td>0.349</td>\n",
              "      <td>47</td>\n",
              "      <td>1</td>\n",
              "    </tr>\n",
              "    <tr>\n",
              "      <th>767</th>\n",
              "      <td>1</td>\n",
              "      <td>93</td>\n",
              "      <td>70</td>\n",
              "      <td>31</td>\n",
              "      <td>0</td>\n",
              "      <td>30.4</td>\n",
              "      <td>0.315</td>\n",
              "      <td>23</td>\n",
              "      <td>0</td>\n",
              "    </tr>\n",
              "  </tbody>\n",
              "</table>\n",
              "</div>\n",
              "      <button class=\"colab-df-convert\" onclick=\"convertToInteractive('df-406e7d3f-bf4c-44c1-b60f-df8f4bc481e6')\"\n",
              "              title=\"Convert this dataframe to an interactive table.\"\n",
              "              style=\"display:none;\">\n",
              "        \n",
              "  <svg xmlns=\"http://www.w3.org/2000/svg\" height=\"24px\"viewBox=\"0 0 24 24\"\n",
              "       width=\"24px\">\n",
              "    <path d=\"M0 0h24v24H0V0z\" fill=\"none\"/>\n",
              "    <path d=\"M18.56 5.44l.94 2.06.94-2.06 2.06-.94-2.06-.94-.94-2.06-.94 2.06-2.06.94zm-11 1L8.5 8.5l.94-2.06 2.06-.94-2.06-.94L8.5 2.5l-.94 2.06-2.06.94zm10 10l.94 2.06.94-2.06 2.06-.94-2.06-.94-.94-2.06-.94 2.06-2.06.94z\"/><path d=\"M17.41 7.96l-1.37-1.37c-.4-.4-.92-.59-1.43-.59-.52 0-1.04.2-1.43.59L10.3 9.45l-7.72 7.72c-.78.78-.78 2.05 0 2.83L4 21.41c.39.39.9.59 1.41.59.51 0 1.02-.2 1.41-.59l7.78-7.78 2.81-2.81c.8-.78.8-2.07 0-2.86zM5.41 20L4 18.59l7.72-7.72 1.47 1.35L5.41 20z\"/>\n",
              "  </svg>\n",
              "      </button>\n",
              "      \n",
              "  <style>\n",
              "    .colab-df-container {\n",
              "      display:flex;\n",
              "      flex-wrap:wrap;\n",
              "      gap: 12px;\n",
              "    }\n",
              "\n",
              "    .colab-df-convert {\n",
              "      background-color: #E8F0FE;\n",
              "      border: none;\n",
              "      border-radius: 50%;\n",
              "      cursor: pointer;\n",
              "      display: none;\n",
              "      fill: #1967D2;\n",
              "      height: 32px;\n",
              "      padding: 0 0 0 0;\n",
              "      width: 32px;\n",
              "    }\n",
              "\n",
              "    .colab-df-convert:hover {\n",
              "      background-color: #E2EBFA;\n",
              "      box-shadow: 0px 1px 2px rgba(60, 64, 67, 0.3), 0px 1px 3px 1px rgba(60, 64, 67, 0.15);\n",
              "      fill: #174EA6;\n",
              "    }\n",
              "\n",
              "    [theme=dark] .colab-df-convert {\n",
              "      background-color: #3B4455;\n",
              "      fill: #D2E3FC;\n",
              "    }\n",
              "\n",
              "    [theme=dark] .colab-df-convert:hover {\n",
              "      background-color: #434B5C;\n",
              "      box-shadow: 0px 1px 3px 1px rgba(0, 0, 0, 0.15);\n",
              "      filter: drop-shadow(0px 1px 2px rgba(0, 0, 0, 0.3));\n",
              "      fill: #FFFFFF;\n",
              "    }\n",
              "  </style>\n",
              "\n",
              "      <script>\n",
              "        const buttonEl =\n",
              "          document.querySelector('#df-406e7d3f-bf4c-44c1-b60f-df8f4bc481e6 button.colab-df-convert');\n",
              "        buttonEl.style.display =\n",
              "          google.colab.kernel.accessAllowed ? 'block' : 'none';\n",
              "\n",
              "        async function convertToInteractive(key) {\n",
              "          const element = document.querySelector('#df-406e7d3f-bf4c-44c1-b60f-df8f4bc481e6');\n",
              "          const dataTable =\n",
              "            await google.colab.kernel.invokeFunction('convertToInteractive',\n",
              "                                                     [key], {});\n",
              "          if (!dataTable) return;\n",
              "\n",
              "          const docLinkHtml = 'Like what you see? Visit the ' +\n",
              "            '<a target=\"_blank\" href=https://colab.research.google.com/notebooks/data_table.ipynb>data table notebook</a>'\n",
              "            + ' to learn more about interactive tables.';\n",
              "          element.innerHTML = '';\n",
              "          dataTable['output_type'] = 'display_data';\n",
              "          await google.colab.output.renderOutput(dataTable, element);\n",
              "          const docLink = document.createElement('div');\n",
              "          docLink.innerHTML = docLinkHtml;\n",
              "          element.appendChild(docLink);\n",
              "        }\n",
              "      </script>\n",
              "    </div>\n",
              "  </div>\n",
              "  "
            ]
          },
          "metadata": {},
          "execution_count": 5
        }
      ]
    },
    {
      "cell_type": "code",
      "source": [
        "# to view overall info of this dataset\n",
        "df.info()"
      ],
      "metadata": {
        "colab": {
          "base_uri": "https://localhost:8080/"
        },
        "id": "BhUbvx6e5air",
        "outputId": "a4ff931c-33be-4844-d3c8-4965dee38294"
      },
      "execution_count": null,
      "outputs": [
        {
          "output_type": "stream",
          "name": "stdout",
          "text": [
            "<class 'pandas.core.frame.DataFrame'>\n",
            "RangeIndex: 768 entries, 0 to 767\n",
            "Data columns (total 9 columns):\n",
            " #   Column                    Non-Null Count  Dtype  \n",
            "---  ------                    --------------  -----  \n",
            " 0   Pregnancies               768 non-null    int64  \n",
            " 1   Glucose                   768 non-null    int64  \n",
            " 2   BloodPressure             768 non-null    int64  \n",
            " 3   SkinThickness             768 non-null    int64  \n",
            " 4   Insulin                   768 non-null    int64  \n",
            " 5   BMI                       768 non-null    float64\n",
            " 6   DiabetesPedigreeFunction  768 non-null    float64\n",
            " 7   Age                       768 non-null    int64  \n",
            " 8   Outcome                   768 non-null    int64  \n",
            "dtypes: float64(2), int64(7)\n",
            "memory usage: 54.1 KB\n"
          ]
        }
      ]
    },
    {
      "cell_type": "markdown",
      "source": [
        "### 2.2.1 Splitting data \n",
        "\n",
        "- Split data to be 2 subgroup `training_data` and  `testing_data` respectively"
      ],
      "metadata": {
        "id": "SVW5U1kYnoa8"
      }
    },
    {
      "cell_type": "code",
      "source": [
        "# split date to df_train (training_set) and df_test (testing set) using ratio for train : test = 80 : 20\n",
        "# this case we will set seed using number \n",
        "df_train , df_test = train_test_split(df , test_size = 0.2 , random_state = 1994)"
      ],
      "metadata": {
        "id": "BALxleXu5iVZ"
      },
      "execution_count": null,
      "outputs": []
    },
    {
      "cell_type": "markdown",
      "source": [
        "### 2.2.2 Basic Statistical Analysis for All Variables\n",
        "\n",
        "- Number of Samples\n",
        "- Missing Value\n",
        "- Central Tendency (Mean , Median . Mode , Standard Deviation SD) \n",
        "- Quatile (Q2 , Q3)"
      ],
      "metadata": {
        "id": "ZtNCIHSuoUpP"
      }
    },
    {
      "cell_type": "markdown",
      "source": [
        "#### 2.2.2.1 Whole Dataset"
      ],
      "metadata": {
        "id": "hemcYUfo3PxI"
      }
    },
    {
      "cell_type": "code",
      "source": [
        "# to view overall statistics  of whole dataset (100%)\n",
        "\n",
        "# to view Mean , SD , Q1 - Q3 , max , min , count of whole dataset (df)\n",
        "df.describe()\n",
        "\n",
        "# 25% and 75% are 25th Percentile and 75th Percentile (AKA Q2 and Q3 respectively)"
      ],
      "metadata": {
        "id": "nLmFaiWPqJSQ",
        "colab": {
          "base_uri": "https://localhost:8080/",
          "height": 300
        },
        "outputId": "3f231ceb-c4f9-4289-febe-769d92c722c0"
      },
      "execution_count": null,
      "outputs": [
        {
          "output_type": "execute_result",
          "data": {
            "text/plain": [
              "       Pregnancies     Glucose  BloodPressure  SkinThickness     Insulin  \\\n",
              "count   768.000000  768.000000     768.000000     768.000000  768.000000   \n",
              "mean      3.845052  120.894531      69.105469      20.536458   79.799479   \n",
              "std       3.369578   31.972618      19.355807      15.952218  115.244002   \n",
              "min       0.000000    0.000000       0.000000       0.000000    0.000000   \n",
              "25%       1.000000   99.000000      62.000000       0.000000    0.000000   \n",
              "50%       3.000000  117.000000      72.000000      23.000000   30.500000   \n",
              "75%       6.000000  140.250000      80.000000      32.000000  127.250000   \n",
              "max      17.000000  199.000000     122.000000      99.000000  846.000000   \n",
              "\n",
              "              BMI  DiabetesPedigreeFunction         Age     Outcome  \n",
              "count  768.000000                768.000000  768.000000  768.000000  \n",
              "mean    31.992578                  0.471876   33.240885    0.348958  \n",
              "std      7.884160                  0.331329   11.760232    0.476951  \n",
              "min      0.000000                  0.078000   21.000000    0.000000  \n",
              "25%     27.300000                  0.243750   24.000000    0.000000  \n",
              "50%     32.000000                  0.372500   29.000000    0.000000  \n",
              "75%     36.600000                  0.626250   41.000000    1.000000  \n",
              "max     67.100000                  2.420000   81.000000    1.000000  "
            ],
            "text/html": [
              "\n",
              "  <div id=\"df-ea383d71-980a-45fa-a851-e1e878ba3c86\">\n",
              "    <div class=\"colab-df-container\">\n",
              "      <div>\n",
              "<style scoped>\n",
              "    .dataframe tbody tr th:only-of-type {\n",
              "        vertical-align: middle;\n",
              "    }\n",
              "\n",
              "    .dataframe tbody tr th {\n",
              "        vertical-align: top;\n",
              "    }\n",
              "\n",
              "    .dataframe thead th {\n",
              "        text-align: right;\n",
              "    }\n",
              "</style>\n",
              "<table border=\"1\" class=\"dataframe\">\n",
              "  <thead>\n",
              "    <tr style=\"text-align: right;\">\n",
              "      <th></th>\n",
              "      <th>Pregnancies</th>\n",
              "      <th>Glucose</th>\n",
              "      <th>BloodPressure</th>\n",
              "      <th>SkinThickness</th>\n",
              "      <th>Insulin</th>\n",
              "      <th>BMI</th>\n",
              "      <th>DiabetesPedigreeFunction</th>\n",
              "      <th>Age</th>\n",
              "      <th>Outcome</th>\n",
              "    </tr>\n",
              "  </thead>\n",
              "  <tbody>\n",
              "    <tr>\n",
              "      <th>count</th>\n",
              "      <td>768.000000</td>\n",
              "      <td>768.000000</td>\n",
              "      <td>768.000000</td>\n",
              "      <td>768.000000</td>\n",
              "      <td>768.000000</td>\n",
              "      <td>768.000000</td>\n",
              "      <td>768.000000</td>\n",
              "      <td>768.000000</td>\n",
              "      <td>768.000000</td>\n",
              "    </tr>\n",
              "    <tr>\n",
              "      <th>mean</th>\n",
              "      <td>3.845052</td>\n",
              "      <td>120.894531</td>\n",
              "      <td>69.105469</td>\n",
              "      <td>20.536458</td>\n",
              "      <td>79.799479</td>\n",
              "      <td>31.992578</td>\n",
              "      <td>0.471876</td>\n",
              "      <td>33.240885</td>\n",
              "      <td>0.348958</td>\n",
              "    </tr>\n",
              "    <tr>\n",
              "      <th>std</th>\n",
              "      <td>3.369578</td>\n",
              "      <td>31.972618</td>\n",
              "      <td>19.355807</td>\n",
              "      <td>15.952218</td>\n",
              "      <td>115.244002</td>\n",
              "      <td>7.884160</td>\n",
              "      <td>0.331329</td>\n",
              "      <td>11.760232</td>\n",
              "      <td>0.476951</td>\n",
              "    </tr>\n",
              "    <tr>\n",
              "      <th>min</th>\n",
              "      <td>0.000000</td>\n",
              "      <td>0.000000</td>\n",
              "      <td>0.000000</td>\n",
              "      <td>0.000000</td>\n",
              "      <td>0.000000</td>\n",
              "      <td>0.000000</td>\n",
              "      <td>0.078000</td>\n",
              "      <td>21.000000</td>\n",
              "      <td>0.000000</td>\n",
              "    </tr>\n",
              "    <tr>\n",
              "      <th>25%</th>\n",
              "      <td>1.000000</td>\n",
              "      <td>99.000000</td>\n",
              "      <td>62.000000</td>\n",
              "      <td>0.000000</td>\n",
              "      <td>0.000000</td>\n",
              "      <td>27.300000</td>\n",
              "      <td>0.243750</td>\n",
              "      <td>24.000000</td>\n",
              "      <td>0.000000</td>\n",
              "    </tr>\n",
              "    <tr>\n",
              "      <th>50%</th>\n",
              "      <td>3.000000</td>\n",
              "      <td>117.000000</td>\n",
              "      <td>72.000000</td>\n",
              "      <td>23.000000</td>\n",
              "      <td>30.500000</td>\n",
              "      <td>32.000000</td>\n",
              "      <td>0.372500</td>\n",
              "      <td>29.000000</td>\n",
              "      <td>0.000000</td>\n",
              "    </tr>\n",
              "    <tr>\n",
              "      <th>75%</th>\n",
              "      <td>6.000000</td>\n",
              "      <td>140.250000</td>\n",
              "      <td>80.000000</td>\n",
              "      <td>32.000000</td>\n",
              "      <td>127.250000</td>\n",
              "      <td>36.600000</td>\n",
              "      <td>0.626250</td>\n",
              "      <td>41.000000</td>\n",
              "      <td>1.000000</td>\n",
              "    </tr>\n",
              "    <tr>\n",
              "      <th>max</th>\n",
              "      <td>17.000000</td>\n",
              "      <td>199.000000</td>\n",
              "      <td>122.000000</td>\n",
              "      <td>99.000000</td>\n",
              "      <td>846.000000</td>\n",
              "      <td>67.100000</td>\n",
              "      <td>2.420000</td>\n",
              "      <td>81.000000</td>\n",
              "      <td>1.000000</td>\n",
              "    </tr>\n",
              "  </tbody>\n",
              "</table>\n",
              "</div>\n",
              "      <button class=\"colab-df-convert\" onclick=\"convertToInteractive('df-ea383d71-980a-45fa-a851-e1e878ba3c86')\"\n",
              "              title=\"Convert this dataframe to an interactive table.\"\n",
              "              style=\"display:none;\">\n",
              "        \n",
              "  <svg xmlns=\"http://www.w3.org/2000/svg\" height=\"24px\"viewBox=\"0 0 24 24\"\n",
              "       width=\"24px\">\n",
              "    <path d=\"M0 0h24v24H0V0z\" fill=\"none\"/>\n",
              "    <path d=\"M18.56 5.44l.94 2.06.94-2.06 2.06-.94-2.06-.94-.94-2.06-.94 2.06-2.06.94zm-11 1L8.5 8.5l.94-2.06 2.06-.94-2.06-.94L8.5 2.5l-.94 2.06-2.06.94zm10 10l.94 2.06.94-2.06 2.06-.94-2.06-.94-.94-2.06-.94 2.06-2.06.94z\"/><path d=\"M17.41 7.96l-1.37-1.37c-.4-.4-.92-.59-1.43-.59-.52 0-1.04.2-1.43.59L10.3 9.45l-7.72 7.72c-.78.78-.78 2.05 0 2.83L4 21.41c.39.39.9.59 1.41.59.51 0 1.02-.2 1.41-.59l7.78-7.78 2.81-2.81c.8-.78.8-2.07 0-2.86zM5.41 20L4 18.59l7.72-7.72 1.47 1.35L5.41 20z\"/>\n",
              "  </svg>\n",
              "      </button>\n",
              "      \n",
              "  <style>\n",
              "    .colab-df-container {\n",
              "      display:flex;\n",
              "      flex-wrap:wrap;\n",
              "      gap: 12px;\n",
              "    }\n",
              "\n",
              "    .colab-df-convert {\n",
              "      background-color: #E8F0FE;\n",
              "      border: none;\n",
              "      border-radius: 50%;\n",
              "      cursor: pointer;\n",
              "      display: none;\n",
              "      fill: #1967D2;\n",
              "      height: 32px;\n",
              "      padding: 0 0 0 0;\n",
              "      width: 32px;\n",
              "    }\n",
              "\n",
              "    .colab-df-convert:hover {\n",
              "      background-color: #E2EBFA;\n",
              "      box-shadow: 0px 1px 2px rgba(60, 64, 67, 0.3), 0px 1px 3px 1px rgba(60, 64, 67, 0.15);\n",
              "      fill: #174EA6;\n",
              "    }\n",
              "\n",
              "    [theme=dark] .colab-df-convert {\n",
              "      background-color: #3B4455;\n",
              "      fill: #D2E3FC;\n",
              "    }\n",
              "\n",
              "    [theme=dark] .colab-df-convert:hover {\n",
              "      background-color: #434B5C;\n",
              "      box-shadow: 0px 1px 3px 1px rgba(0, 0, 0, 0.15);\n",
              "      filter: drop-shadow(0px 1px 2px rgba(0, 0, 0, 0.3));\n",
              "      fill: #FFFFFF;\n",
              "    }\n",
              "  </style>\n",
              "\n",
              "      <script>\n",
              "        const buttonEl =\n",
              "          document.querySelector('#df-ea383d71-980a-45fa-a851-e1e878ba3c86 button.colab-df-convert');\n",
              "        buttonEl.style.display =\n",
              "          google.colab.kernel.accessAllowed ? 'block' : 'none';\n",
              "\n",
              "        async function convertToInteractive(key) {\n",
              "          const element = document.querySelector('#df-ea383d71-980a-45fa-a851-e1e878ba3c86');\n",
              "          const dataTable =\n",
              "            await google.colab.kernel.invokeFunction('convertToInteractive',\n",
              "                                                     [key], {});\n",
              "          if (!dataTable) return;\n",
              "\n",
              "          const docLinkHtml = 'Like what you see? Visit the ' +\n",
              "            '<a target=\"_blank\" href=https://colab.research.google.com/notebooks/data_table.ipynb>data table notebook</a>'\n",
              "            + ' to learn more about interactive tables.';\n",
              "          element.innerHTML = '';\n",
              "          dataTable['output_type'] = 'display_data';\n",
              "          await google.colab.output.renderOutput(dataTable, element);\n",
              "          const docLink = document.createElement('div');\n",
              "          docLink.innerHTML = docLinkHtml;\n",
              "          element.appendChild(docLink);\n",
              "        }\n",
              "      </script>\n",
              "    </div>\n",
              "  </div>\n",
              "  "
            ]
          },
          "metadata": {},
          "execution_count": 8
        }
      ]
    },
    {
      "cell_type": "code",
      "source": [
        "# to view median of whole dataset \n",
        "df.median()\n"
      ],
      "metadata": {
        "colab": {
          "base_uri": "https://localhost:8080/"
        },
        "id": "PXYH0LaZ3HYG",
        "outputId": "a43c9d99-e569-4917-9a2b-c19669ee42a4"
      },
      "execution_count": null,
      "outputs": [
        {
          "output_type": "execute_result",
          "data": {
            "text/plain": [
              "Pregnancies                   3.0000\n",
              "Glucose                     117.0000\n",
              "BloodPressure                72.0000\n",
              "SkinThickness                23.0000\n",
              "Insulin                      30.5000\n",
              "BMI                          32.0000\n",
              "DiabetesPedigreeFunction      0.3725\n",
              "Age                          29.0000\n",
              "Outcome                       0.0000\n",
              "dtype: float64"
            ]
          },
          "metadata": {},
          "execution_count": 9
        }
      ]
    },
    {
      "cell_type": "code",
      "source": [
        "# to view mode of whole dataset\n",
        "df.mode()"
      ],
      "metadata": {
        "colab": {
          "base_uri": "https://localhost:8080/",
          "height": 112
        },
        "id": "3vzb64Fr3I-P",
        "outputId": "34f93d0b-b855-4869-8388-64e534d71fd5"
      },
      "execution_count": null,
      "outputs": [
        {
          "output_type": "execute_result",
          "data": {
            "text/plain": [
              "   Pregnancies  Glucose  BloodPressure  SkinThickness  Insulin   BMI  \\\n",
              "0          1.0       99           70.0            0.0      0.0  32.0   \n",
              "1          NaN      100            NaN            NaN      NaN   NaN   \n",
              "\n",
              "   DiabetesPedigreeFunction   Age  Outcome  \n",
              "0                     0.254  22.0      0.0  \n",
              "1                     0.258   NaN      NaN  "
            ],
            "text/html": [
              "\n",
              "  <div id=\"df-b7bdf339-7ad4-44f7-8f4c-4ce484f5b171\">\n",
              "    <div class=\"colab-df-container\">\n",
              "      <div>\n",
              "<style scoped>\n",
              "    .dataframe tbody tr th:only-of-type {\n",
              "        vertical-align: middle;\n",
              "    }\n",
              "\n",
              "    .dataframe tbody tr th {\n",
              "        vertical-align: top;\n",
              "    }\n",
              "\n",
              "    .dataframe thead th {\n",
              "        text-align: right;\n",
              "    }\n",
              "</style>\n",
              "<table border=\"1\" class=\"dataframe\">\n",
              "  <thead>\n",
              "    <tr style=\"text-align: right;\">\n",
              "      <th></th>\n",
              "      <th>Pregnancies</th>\n",
              "      <th>Glucose</th>\n",
              "      <th>BloodPressure</th>\n",
              "      <th>SkinThickness</th>\n",
              "      <th>Insulin</th>\n",
              "      <th>BMI</th>\n",
              "      <th>DiabetesPedigreeFunction</th>\n",
              "      <th>Age</th>\n",
              "      <th>Outcome</th>\n",
              "    </tr>\n",
              "  </thead>\n",
              "  <tbody>\n",
              "    <tr>\n",
              "      <th>0</th>\n",
              "      <td>1.0</td>\n",
              "      <td>99</td>\n",
              "      <td>70.0</td>\n",
              "      <td>0.0</td>\n",
              "      <td>0.0</td>\n",
              "      <td>32.0</td>\n",
              "      <td>0.254</td>\n",
              "      <td>22.0</td>\n",
              "      <td>0.0</td>\n",
              "    </tr>\n",
              "    <tr>\n",
              "      <th>1</th>\n",
              "      <td>NaN</td>\n",
              "      <td>100</td>\n",
              "      <td>NaN</td>\n",
              "      <td>NaN</td>\n",
              "      <td>NaN</td>\n",
              "      <td>NaN</td>\n",
              "      <td>0.258</td>\n",
              "      <td>NaN</td>\n",
              "      <td>NaN</td>\n",
              "    </tr>\n",
              "  </tbody>\n",
              "</table>\n",
              "</div>\n",
              "      <button class=\"colab-df-convert\" onclick=\"convertToInteractive('df-b7bdf339-7ad4-44f7-8f4c-4ce484f5b171')\"\n",
              "              title=\"Convert this dataframe to an interactive table.\"\n",
              "              style=\"display:none;\">\n",
              "        \n",
              "  <svg xmlns=\"http://www.w3.org/2000/svg\" height=\"24px\"viewBox=\"0 0 24 24\"\n",
              "       width=\"24px\">\n",
              "    <path d=\"M0 0h24v24H0V0z\" fill=\"none\"/>\n",
              "    <path d=\"M18.56 5.44l.94 2.06.94-2.06 2.06-.94-2.06-.94-.94-2.06-.94 2.06-2.06.94zm-11 1L8.5 8.5l.94-2.06 2.06-.94-2.06-.94L8.5 2.5l-.94 2.06-2.06.94zm10 10l.94 2.06.94-2.06 2.06-.94-2.06-.94-.94-2.06-.94 2.06-2.06.94z\"/><path d=\"M17.41 7.96l-1.37-1.37c-.4-.4-.92-.59-1.43-.59-.52 0-1.04.2-1.43.59L10.3 9.45l-7.72 7.72c-.78.78-.78 2.05 0 2.83L4 21.41c.39.39.9.59 1.41.59.51 0 1.02-.2 1.41-.59l7.78-7.78 2.81-2.81c.8-.78.8-2.07 0-2.86zM5.41 20L4 18.59l7.72-7.72 1.47 1.35L5.41 20z\"/>\n",
              "  </svg>\n",
              "      </button>\n",
              "      \n",
              "  <style>\n",
              "    .colab-df-container {\n",
              "      display:flex;\n",
              "      flex-wrap:wrap;\n",
              "      gap: 12px;\n",
              "    }\n",
              "\n",
              "    .colab-df-convert {\n",
              "      background-color: #E8F0FE;\n",
              "      border: none;\n",
              "      border-radius: 50%;\n",
              "      cursor: pointer;\n",
              "      display: none;\n",
              "      fill: #1967D2;\n",
              "      height: 32px;\n",
              "      padding: 0 0 0 0;\n",
              "      width: 32px;\n",
              "    }\n",
              "\n",
              "    .colab-df-convert:hover {\n",
              "      background-color: #E2EBFA;\n",
              "      box-shadow: 0px 1px 2px rgba(60, 64, 67, 0.3), 0px 1px 3px 1px rgba(60, 64, 67, 0.15);\n",
              "      fill: #174EA6;\n",
              "    }\n",
              "\n",
              "    [theme=dark] .colab-df-convert {\n",
              "      background-color: #3B4455;\n",
              "      fill: #D2E3FC;\n",
              "    }\n",
              "\n",
              "    [theme=dark] .colab-df-convert:hover {\n",
              "      background-color: #434B5C;\n",
              "      box-shadow: 0px 1px 3px 1px rgba(0, 0, 0, 0.15);\n",
              "      filter: drop-shadow(0px 1px 2px rgba(0, 0, 0, 0.3));\n",
              "      fill: #FFFFFF;\n",
              "    }\n",
              "  </style>\n",
              "\n",
              "      <script>\n",
              "        const buttonEl =\n",
              "          document.querySelector('#df-b7bdf339-7ad4-44f7-8f4c-4ce484f5b171 button.colab-df-convert');\n",
              "        buttonEl.style.display =\n",
              "          google.colab.kernel.accessAllowed ? 'block' : 'none';\n",
              "\n",
              "        async function convertToInteractive(key) {\n",
              "          const element = document.querySelector('#df-b7bdf339-7ad4-44f7-8f4c-4ce484f5b171');\n",
              "          const dataTable =\n",
              "            await google.colab.kernel.invokeFunction('convertToInteractive',\n",
              "                                                     [key], {});\n",
              "          if (!dataTable) return;\n",
              "\n",
              "          const docLinkHtml = 'Like what you see? Visit the ' +\n",
              "            '<a target=\"_blank\" href=https://colab.research.google.com/notebooks/data_table.ipynb>data table notebook</a>'\n",
              "            + ' to learn more about interactive tables.';\n",
              "          element.innerHTML = '';\n",
              "          dataTable['output_type'] = 'display_data';\n",
              "          await google.colab.output.renderOutput(dataTable, element);\n",
              "          const docLink = document.createElement('div');\n",
              "          docLink.innerHTML = docLinkHtml;\n",
              "          element.appendChild(docLink);\n",
              "        }\n",
              "      </script>\n",
              "    </div>\n",
              "  </div>\n",
              "  "
            ]
          },
          "metadata": {},
          "execution_count": 10
        }
      ]
    },
    {
      "cell_type": "markdown",
      "source": [
        "#### 2.2.2.2 Training data"
      ],
      "metadata": {
        "id": "DHUCGFsV3Zam"
      }
    },
    {
      "cell_type": "code",
      "source": [
        "# to view shape of df_train \n",
        "df_train.shape"
      ],
      "metadata": {
        "colab": {
          "base_uri": "https://localhost:8080/"
        },
        "id": "zM8YtYJh3YN8",
        "outputId": "2a7fcccc-e0dd-4915-a20d-a00ddb955ff3"
      },
      "execution_count": null,
      "outputs": [
        {
          "output_type": "execute_result",
          "data": {
            "text/plain": [
              "(614, 9)"
            ]
          },
          "metadata": {},
          "execution_count": 11
        }
      ]
    },
    {
      "cell_type": "code",
      "source": [
        "# to view overall statistics  of Training data (80%)\n",
        "\n",
        "# to view Mean , SD , Q1 - Q3 , max , min , count of df_train\n",
        "df_train.describe()"
      ],
      "metadata": {
        "colab": {
          "base_uri": "https://localhost:8080/",
          "height": 300
        },
        "id": "eqH-FZra3hKD",
        "outputId": "958827d9-2d35-46ab-c29e-f02edede71a5"
      },
      "execution_count": null,
      "outputs": [
        {
          "output_type": "execute_result",
          "data": {
            "text/plain": [
              "       Pregnancies     Glucose  BloodPressure  SkinThickness     Insulin  \\\n",
              "count   614.000000  614.000000     614.000000     614.000000  614.000000   \n",
              "mean      3.838762  121.166124      68.796417      20.876221   83.597720   \n",
              "std       3.415500   32.464237      20.102574      15.921842  119.941813   \n",
              "min       0.000000    0.000000       0.000000       0.000000    0.000000   \n",
              "25%       1.000000   99.000000      62.000000       0.000000    0.000000   \n",
              "50%       3.000000  117.000000      72.000000      23.000000   37.000000   \n",
              "75%       6.000000  140.000000      80.000000      32.000000  131.500000   \n",
              "max      17.000000  199.000000     122.000000      99.000000  846.000000   \n",
              "\n",
              "              BMI  DiabetesPedigreeFunction         Age     Outcome  \n",
              "count  614.000000                614.000000  614.000000  614.000000  \n",
              "mean    32.139739                  0.472925   33.221498    0.340391  \n",
              "std      7.996628                  0.335747   11.743998    0.474227  \n",
              "min      0.000000                  0.078000   21.000000    0.000000  \n",
              "25%     27.400000                  0.241500   24.000000    0.000000  \n",
              "50%     32.400000                  0.382500   29.000000    0.000000  \n",
              "75%     36.775000                  0.625500   41.000000    1.000000  \n",
              "max     67.100000                  2.420000   81.000000    1.000000  "
            ],
            "text/html": [
              "\n",
              "  <div id=\"df-29c0cc5a-9a13-4ab6-9605-8dc9d98591f7\">\n",
              "    <div class=\"colab-df-container\">\n",
              "      <div>\n",
              "<style scoped>\n",
              "    .dataframe tbody tr th:only-of-type {\n",
              "        vertical-align: middle;\n",
              "    }\n",
              "\n",
              "    .dataframe tbody tr th {\n",
              "        vertical-align: top;\n",
              "    }\n",
              "\n",
              "    .dataframe thead th {\n",
              "        text-align: right;\n",
              "    }\n",
              "</style>\n",
              "<table border=\"1\" class=\"dataframe\">\n",
              "  <thead>\n",
              "    <tr style=\"text-align: right;\">\n",
              "      <th></th>\n",
              "      <th>Pregnancies</th>\n",
              "      <th>Glucose</th>\n",
              "      <th>BloodPressure</th>\n",
              "      <th>SkinThickness</th>\n",
              "      <th>Insulin</th>\n",
              "      <th>BMI</th>\n",
              "      <th>DiabetesPedigreeFunction</th>\n",
              "      <th>Age</th>\n",
              "      <th>Outcome</th>\n",
              "    </tr>\n",
              "  </thead>\n",
              "  <tbody>\n",
              "    <tr>\n",
              "      <th>count</th>\n",
              "      <td>614.000000</td>\n",
              "      <td>614.000000</td>\n",
              "      <td>614.000000</td>\n",
              "      <td>614.000000</td>\n",
              "      <td>614.000000</td>\n",
              "      <td>614.000000</td>\n",
              "      <td>614.000000</td>\n",
              "      <td>614.000000</td>\n",
              "      <td>614.000000</td>\n",
              "    </tr>\n",
              "    <tr>\n",
              "      <th>mean</th>\n",
              "      <td>3.838762</td>\n",
              "      <td>121.166124</td>\n",
              "      <td>68.796417</td>\n",
              "      <td>20.876221</td>\n",
              "      <td>83.597720</td>\n",
              "      <td>32.139739</td>\n",
              "      <td>0.472925</td>\n",
              "      <td>33.221498</td>\n",
              "      <td>0.340391</td>\n",
              "    </tr>\n",
              "    <tr>\n",
              "      <th>std</th>\n",
              "      <td>3.415500</td>\n",
              "      <td>32.464237</td>\n",
              "      <td>20.102574</td>\n",
              "      <td>15.921842</td>\n",
              "      <td>119.941813</td>\n",
              "      <td>7.996628</td>\n",
              "      <td>0.335747</td>\n",
              "      <td>11.743998</td>\n",
              "      <td>0.474227</td>\n",
              "    </tr>\n",
              "    <tr>\n",
              "      <th>min</th>\n",
              "      <td>0.000000</td>\n",
              "      <td>0.000000</td>\n",
              "      <td>0.000000</td>\n",
              "      <td>0.000000</td>\n",
              "      <td>0.000000</td>\n",
              "      <td>0.000000</td>\n",
              "      <td>0.078000</td>\n",
              "      <td>21.000000</td>\n",
              "      <td>0.000000</td>\n",
              "    </tr>\n",
              "    <tr>\n",
              "      <th>25%</th>\n",
              "      <td>1.000000</td>\n",
              "      <td>99.000000</td>\n",
              "      <td>62.000000</td>\n",
              "      <td>0.000000</td>\n",
              "      <td>0.000000</td>\n",
              "      <td>27.400000</td>\n",
              "      <td>0.241500</td>\n",
              "      <td>24.000000</td>\n",
              "      <td>0.000000</td>\n",
              "    </tr>\n",
              "    <tr>\n",
              "      <th>50%</th>\n",
              "      <td>3.000000</td>\n",
              "      <td>117.000000</td>\n",
              "      <td>72.000000</td>\n",
              "      <td>23.000000</td>\n",
              "      <td>37.000000</td>\n",
              "      <td>32.400000</td>\n",
              "      <td>0.382500</td>\n",
              "      <td>29.000000</td>\n",
              "      <td>0.000000</td>\n",
              "    </tr>\n",
              "    <tr>\n",
              "      <th>75%</th>\n",
              "      <td>6.000000</td>\n",
              "      <td>140.000000</td>\n",
              "      <td>80.000000</td>\n",
              "      <td>32.000000</td>\n",
              "      <td>131.500000</td>\n",
              "      <td>36.775000</td>\n",
              "      <td>0.625500</td>\n",
              "      <td>41.000000</td>\n",
              "      <td>1.000000</td>\n",
              "    </tr>\n",
              "    <tr>\n",
              "      <th>max</th>\n",
              "      <td>17.000000</td>\n",
              "      <td>199.000000</td>\n",
              "      <td>122.000000</td>\n",
              "      <td>99.000000</td>\n",
              "      <td>846.000000</td>\n",
              "      <td>67.100000</td>\n",
              "      <td>2.420000</td>\n",
              "      <td>81.000000</td>\n",
              "      <td>1.000000</td>\n",
              "    </tr>\n",
              "  </tbody>\n",
              "</table>\n",
              "</div>\n",
              "      <button class=\"colab-df-convert\" onclick=\"convertToInteractive('df-29c0cc5a-9a13-4ab6-9605-8dc9d98591f7')\"\n",
              "              title=\"Convert this dataframe to an interactive table.\"\n",
              "              style=\"display:none;\">\n",
              "        \n",
              "  <svg xmlns=\"http://www.w3.org/2000/svg\" height=\"24px\"viewBox=\"0 0 24 24\"\n",
              "       width=\"24px\">\n",
              "    <path d=\"M0 0h24v24H0V0z\" fill=\"none\"/>\n",
              "    <path d=\"M18.56 5.44l.94 2.06.94-2.06 2.06-.94-2.06-.94-.94-2.06-.94 2.06-2.06.94zm-11 1L8.5 8.5l.94-2.06 2.06-.94-2.06-.94L8.5 2.5l-.94 2.06-2.06.94zm10 10l.94 2.06.94-2.06 2.06-.94-2.06-.94-.94-2.06-.94 2.06-2.06.94z\"/><path d=\"M17.41 7.96l-1.37-1.37c-.4-.4-.92-.59-1.43-.59-.52 0-1.04.2-1.43.59L10.3 9.45l-7.72 7.72c-.78.78-.78 2.05 0 2.83L4 21.41c.39.39.9.59 1.41.59.51 0 1.02-.2 1.41-.59l7.78-7.78 2.81-2.81c.8-.78.8-2.07 0-2.86zM5.41 20L4 18.59l7.72-7.72 1.47 1.35L5.41 20z\"/>\n",
              "  </svg>\n",
              "      </button>\n",
              "      \n",
              "  <style>\n",
              "    .colab-df-container {\n",
              "      display:flex;\n",
              "      flex-wrap:wrap;\n",
              "      gap: 12px;\n",
              "    }\n",
              "\n",
              "    .colab-df-convert {\n",
              "      background-color: #E8F0FE;\n",
              "      border: none;\n",
              "      border-radius: 50%;\n",
              "      cursor: pointer;\n",
              "      display: none;\n",
              "      fill: #1967D2;\n",
              "      height: 32px;\n",
              "      padding: 0 0 0 0;\n",
              "      width: 32px;\n",
              "    }\n",
              "\n",
              "    .colab-df-convert:hover {\n",
              "      background-color: #E2EBFA;\n",
              "      box-shadow: 0px 1px 2px rgba(60, 64, 67, 0.3), 0px 1px 3px 1px rgba(60, 64, 67, 0.15);\n",
              "      fill: #174EA6;\n",
              "    }\n",
              "\n",
              "    [theme=dark] .colab-df-convert {\n",
              "      background-color: #3B4455;\n",
              "      fill: #D2E3FC;\n",
              "    }\n",
              "\n",
              "    [theme=dark] .colab-df-convert:hover {\n",
              "      background-color: #434B5C;\n",
              "      box-shadow: 0px 1px 3px 1px rgba(0, 0, 0, 0.15);\n",
              "      filter: drop-shadow(0px 1px 2px rgba(0, 0, 0, 0.3));\n",
              "      fill: #FFFFFF;\n",
              "    }\n",
              "  </style>\n",
              "\n",
              "      <script>\n",
              "        const buttonEl =\n",
              "          document.querySelector('#df-29c0cc5a-9a13-4ab6-9605-8dc9d98591f7 button.colab-df-convert');\n",
              "        buttonEl.style.display =\n",
              "          google.colab.kernel.accessAllowed ? 'block' : 'none';\n",
              "\n",
              "        async function convertToInteractive(key) {\n",
              "          const element = document.querySelector('#df-29c0cc5a-9a13-4ab6-9605-8dc9d98591f7');\n",
              "          const dataTable =\n",
              "            await google.colab.kernel.invokeFunction('convertToInteractive',\n",
              "                                                     [key], {});\n",
              "          if (!dataTable) return;\n",
              "\n",
              "          const docLinkHtml = 'Like what you see? Visit the ' +\n",
              "            '<a target=\"_blank\" href=https://colab.research.google.com/notebooks/data_table.ipynb>data table notebook</a>'\n",
              "            + ' to learn more about interactive tables.';\n",
              "          element.innerHTML = '';\n",
              "          dataTable['output_type'] = 'display_data';\n",
              "          await google.colab.output.renderOutput(dataTable, element);\n",
              "          const docLink = document.createElement('div');\n",
              "          docLink.innerHTML = docLinkHtml;\n",
              "          element.appendChild(docLink);\n",
              "        }\n",
              "      </script>\n",
              "    </div>\n",
              "  </div>\n",
              "  "
            ]
          },
          "metadata": {},
          "execution_count": 12
        }
      ]
    },
    {
      "cell_type": "code",
      "source": [
        "# to view median of Training data (df_train)\n",
        "df_train.median()\n"
      ],
      "metadata": {
        "colab": {
          "base_uri": "https://localhost:8080/"
        },
        "id": "PsaaEgUV3j40",
        "outputId": "e29d02d2-a684-465e-aa31-36c63f1ccb39"
      },
      "execution_count": null,
      "outputs": [
        {
          "output_type": "execute_result",
          "data": {
            "text/plain": [
              "Pregnancies                   3.0000\n",
              "Glucose                     117.0000\n",
              "BloodPressure                72.0000\n",
              "SkinThickness                23.0000\n",
              "Insulin                      37.0000\n",
              "BMI                          32.4000\n",
              "DiabetesPedigreeFunction      0.3825\n",
              "Age                          29.0000\n",
              "Outcome                       0.0000\n",
              "dtype: float64"
            ]
          },
          "metadata": {},
          "execution_count": 13
        }
      ]
    },
    {
      "cell_type": "code",
      "source": [
        "# to view mode of Training data (df_train)\n",
        "df_train.mode()"
      ],
      "metadata": {
        "colab": {
          "base_uri": "https://localhost:8080/",
          "height": 81
        },
        "id": "hW1xS25M3lo-",
        "outputId": "97c4a610-3435-42d6-dcc5-4d1fab005175"
      },
      "execution_count": null,
      "outputs": [
        {
          "output_type": "execute_result",
          "data": {
            "text/plain": [
              "   Pregnancies  Glucose  BloodPressure  SkinThickness  Insulin   BMI  \\\n",
              "0            1       99             70              0        0  32.0   \n",
              "\n",
              "   DiabetesPedigreeFunction  Age  Outcome  \n",
              "0                     0.254   22        0  "
            ],
            "text/html": [
              "\n",
              "  <div id=\"df-7adc8d1e-2b3b-4cc5-937f-5b27a6fca691\">\n",
              "    <div class=\"colab-df-container\">\n",
              "      <div>\n",
              "<style scoped>\n",
              "    .dataframe tbody tr th:only-of-type {\n",
              "        vertical-align: middle;\n",
              "    }\n",
              "\n",
              "    .dataframe tbody tr th {\n",
              "        vertical-align: top;\n",
              "    }\n",
              "\n",
              "    .dataframe thead th {\n",
              "        text-align: right;\n",
              "    }\n",
              "</style>\n",
              "<table border=\"1\" class=\"dataframe\">\n",
              "  <thead>\n",
              "    <tr style=\"text-align: right;\">\n",
              "      <th></th>\n",
              "      <th>Pregnancies</th>\n",
              "      <th>Glucose</th>\n",
              "      <th>BloodPressure</th>\n",
              "      <th>SkinThickness</th>\n",
              "      <th>Insulin</th>\n",
              "      <th>BMI</th>\n",
              "      <th>DiabetesPedigreeFunction</th>\n",
              "      <th>Age</th>\n",
              "      <th>Outcome</th>\n",
              "    </tr>\n",
              "  </thead>\n",
              "  <tbody>\n",
              "    <tr>\n",
              "      <th>0</th>\n",
              "      <td>1</td>\n",
              "      <td>99</td>\n",
              "      <td>70</td>\n",
              "      <td>0</td>\n",
              "      <td>0</td>\n",
              "      <td>32.0</td>\n",
              "      <td>0.254</td>\n",
              "      <td>22</td>\n",
              "      <td>0</td>\n",
              "    </tr>\n",
              "  </tbody>\n",
              "</table>\n",
              "</div>\n",
              "      <button class=\"colab-df-convert\" onclick=\"convertToInteractive('df-7adc8d1e-2b3b-4cc5-937f-5b27a6fca691')\"\n",
              "              title=\"Convert this dataframe to an interactive table.\"\n",
              "              style=\"display:none;\">\n",
              "        \n",
              "  <svg xmlns=\"http://www.w3.org/2000/svg\" height=\"24px\"viewBox=\"0 0 24 24\"\n",
              "       width=\"24px\">\n",
              "    <path d=\"M0 0h24v24H0V0z\" fill=\"none\"/>\n",
              "    <path d=\"M18.56 5.44l.94 2.06.94-2.06 2.06-.94-2.06-.94-.94-2.06-.94 2.06-2.06.94zm-11 1L8.5 8.5l.94-2.06 2.06-.94-2.06-.94L8.5 2.5l-.94 2.06-2.06.94zm10 10l.94 2.06.94-2.06 2.06-.94-2.06-.94-.94-2.06-.94 2.06-2.06.94z\"/><path d=\"M17.41 7.96l-1.37-1.37c-.4-.4-.92-.59-1.43-.59-.52 0-1.04.2-1.43.59L10.3 9.45l-7.72 7.72c-.78.78-.78 2.05 0 2.83L4 21.41c.39.39.9.59 1.41.59.51 0 1.02-.2 1.41-.59l7.78-7.78 2.81-2.81c.8-.78.8-2.07 0-2.86zM5.41 20L4 18.59l7.72-7.72 1.47 1.35L5.41 20z\"/>\n",
              "  </svg>\n",
              "      </button>\n",
              "      \n",
              "  <style>\n",
              "    .colab-df-container {\n",
              "      display:flex;\n",
              "      flex-wrap:wrap;\n",
              "      gap: 12px;\n",
              "    }\n",
              "\n",
              "    .colab-df-convert {\n",
              "      background-color: #E8F0FE;\n",
              "      border: none;\n",
              "      border-radius: 50%;\n",
              "      cursor: pointer;\n",
              "      display: none;\n",
              "      fill: #1967D2;\n",
              "      height: 32px;\n",
              "      padding: 0 0 0 0;\n",
              "      width: 32px;\n",
              "    }\n",
              "\n",
              "    .colab-df-convert:hover {\n",
              "      background-color: #E2EBFA;\n",
              "      box-shadow: 0px 1px 2px rgba(60, 64, 67, 0.3), 0px 1px 3px 1px rgba(60, 64, 67, 0.15);\n",
              "      fill: #174EA6;\n",
              "    }\n",
              "\n",
              "    [theme=dark] .colab-df-convert {\n",
              "      background-color: #3B4455;\n",
              "      fill: #D2E3FC;\n",
              "    }\n",
              "\n",
              "    [theme=dark] .colab-df-convert:hover {\n",
              "      background-color: #434B5C;\n",
              "      box-shadow: 0px 1px 3px 1px rgba(0, 0, 0, 0.15);\n",
              "      filter: drop-shadow(0px 1px 2px rgba(0, 0, 0, 0.3));\n",
              "      fill: #FFFFFF;\n",
              "    }\n",
              "  </style>\n",
              "\n",
              "      <script>\n",
              "        const buttonEl =\n",
              "          document.querySelector('#df-7adc8d1e-2b3b-4cc5-937f-5b27a6fca691 button.colab-df-convert');\n",
              "        buttonEl.style.display =\n",
              "          google.colab.kernel.accessAllowed ? 'block' : 'none';\n",
              "\n",
              "        async function convertToInteractive(key) {\n",
              "          const element = document.querySelector('#df-7adc8d1e-2b3b-4cc5-937f-5b27a6fca691');\n",
              "          const dataTable =\n",
              "            await google.colab.kernel.invokeFunction('convertToInteractive',\n",
              "                                                     [key], {});\n",
              "          if (!dataTable) return;\n",
              "\n",
              "          const docLinkHtml = 'Like what you see? Visit the ' +\n",
              "            '<a target=\"_blank\" href=https://colab.research.google.com/notebooks/data_table.ipynb>data table notebook</a>'\n",
              "            + ' to learn more about interactive tables.';\n",
              "          element.innerHTML = '';\n",
              "          dataTable['output_type'] = 'display_data';\n",
              "          await google.colab.output.renderOutput(dataTable, element);\n",
              "          const docLink = document.createElement('div');\n",
              "          docLink.innerHTML = docLinkHtml;\n",
              "          element.appendChild(docLink);\n",
              "        }\n",
              "      </script>\n",
              "    </div>\n",
              "  </div>\n",
              "  "
            ]
          },
          "metadata": {},
          "execution_count": 14
        }
      ]
    },
    {
      "cell_type": "markdown",
      "source": [
        "#### 2.2.2.3 Testing Data"
      ],
      "metadata": {
        "id": "g5zDQAHY3qsI"
      }
    },
    {
      "cell_type": "code",
      "source": [
        "# to view shape of df_test\n",
        "df_test.shape"
      ],
      "metadata": {
        "colab": {
          "base_uri": "https://localhost:8080/"
        },
        "id": "sJ2h9ECC3oiY",
        "outputId": "c280a8b4-01e6-4f96-dc09-5d5c78116e71"
      },
      "execution_count": null,
      "outputs": [
        {
          "output_type": "execute_result",
          "data": {
            "text/plain": [
              "(154, 9)"
            ]
          },
          "metadata": {},
          "execution_count": 15
        }
      ]
    },
    {
      "cell_type": "code",
      "source": [
        "# to view overall statistics  of testing data (20%)\n",
        "\n",
        "# to view Mean , SD , Q1 - Q3 , max , min , count of df_test\n",
        "df_test.describe()"
      ],
      "metadata": {
        "colab": {
          "base_uri": "https://localhost:8080/",
          "height": 300
        },
        "id": "_HhJxjSg3wXF",
        "outputId": "f6d4e85d-bac0-4f68-da55-39f1d2c17dbc"
      },
      "execution_count": null,
      "outputs": [
        {
          "output_type": "execute_result",
          "data": {
            "text/plain": [
              "       Pregnancies     Glucose  BloodPressure  SkinThickness     Insulin  \\\n",
              "count    154.00000  154.000000     154.000000     154.000000  154.000000   \n",
              "mean       3.87013  119.811688      70.337662      19.181818   64.655844   \n",
              "std        3.19047   30.008881      16.035182      16.053202   93.019387   \n",
              "min        0.00000   44.000000       0.000000       0.000000    0.000000   \n",
              "25%        1.00000   99.000000      64.000000       0.000000    0.000000   \n",
              "50%        3.00000  115.000000      70.000000      21.000000    0.000000   \n",
              "75%        5.75000  141.000000      82.000000      32.000000  113.750000   \n",
              "max       13.00000  196.000000     102.000000      52.000000  579.000000   \n",
              "\n",
              "              BMI  DiabetesPedigreeFunction         Age     Outcome  \n",
              "count  154.000000                154.000000  154.000000  154.000000  \n",
              "mean    31.405844                  0.467695   33.318182    0.383117  \n",
              "std      7.414640                  0.314108   11.862890    0.487733  \n",
              "min      0.000000                  0.085000   21.000000    0.000000  \n",
              "25%     27.000000                  0.245000   24.000000    0.000000  \n",
              "50%     31.200000                  0.348000   29.000000    0.000000  \n",
              "75%     35.575000                  0.640750   39.750000    1.000000  \n",
              "max     49.300000                  1.600000   68.000000    1.000000  "
            ],
            "text/html": [
              "\n",
              "  <div id=\"df-458b79e6-d90b-44ba-8b88-8364d1a36296\">\n",
              "    <div class=\"colab-df-container\">\n",
              "      <div>\n",
              "<style scoped>\n",
              "    .dataframe tbody tr th:only-of-type {\n",
              "        vertical-align: middle;\n",
              "    }\n",
              "\n",
              "    .dataframe tbody tr th {\n",
              "        vertical-align: top;\n",
              "    }\n",
              "\n",
              "    .dataframe thead th {\n",
              "        text-align: right;\n",
              "    }\n",
              "</style>\n",
              "<table border=\"1\" class=\"dataframe\">\n",
              "  <thead>\n",
              "    <tr style=\"text-align: right;\">\n",
              "      <th></th>\n",
              "      <th>Pregnancies</th>\n",
              "      <th>Glucose</th>\n",
              "      <th>BloodPressure</th>\n",
              "      <th>SkinThickness</th>\n",
              "      <th>Insulin</th>\n",
              "      <th>BMI</th>\n",
              "      <th>DiabetesPedigreeFunction</th>\n",
              "      <th>Age</th>\n",
              "      <th>Outcome</th>\n",
              "    </tr>\n",
              "  </thead>\n",
              "  <tbody>\n",
              "    <tr>\n",
              "      <th>count</th>\n",
              "      <td>154.00000</td>\n",
              "      <td>154.000000</td>\n",
              "      <td>154.000000</td>\n",
              "      <td>154.000000</td>\n",
              "      <td>154.000000</td>\n",
              "      <td>154.000000</td>\n",
              "      <td>154.000000</td>\n",
              "      <td>154.000000</td>\n",
              "      <td>154.000000</td>\n",
              "    </tr>\n",
              "    <tr>\n",
              "      <th>mean</th>\n",
              "      <td>3.87013</td>\n",
              "      <td>119.811688</td>\n",
              "      <td>70.337662</td>\n",
              "      <td>19.181818</td>\n",
              "      <td>64.655844</td>\n",
              "      <td>31.405844</td>\n",
              "      <td>0.467695</td>\n",
              "      <td>33.318182</td>\n",
              "      <td>0.383117</td>\n",
              "    </tr>\n",
              "    <tr>\n",
              "      <th>std</th>\n",
              "      <td>3.19047</td>\n",
              "      <td>30.008881</td>\n",
              "      <td>16.035182</td>\n",
              "      <td>16.053202</td>\n",
              "      <td>93.019387</td>\n",
              "      <td>7.414640</td>\n",
              "      <td>0.314108</td>\n",
              "      <td>11.862890</td>\n",
              "      <td>0.487733</td>\n",
              "    </tr>\n",
              "    <tr>\n",
              "      <th>min</th>\n",
              "      <td>0.00000</td>\n",
              "      <td>44.000000</td>\n",
              "      <td>0.000000</td>\n",
              "      <td>0.000000</td>\n",
              "      <td>0.000000</td>\n",
              "      <td>0.000000</td>\n",
              "      <td>0.085000</td>\n",
              "      <td>21.000000</td>\n",
              "      <td>0.000000</td>\n",
              "    </tr>\n",
              "    <tr>\n",
              "      <th>25%</th>\n",
              "      <td>1.00000</td>\n",
              "      <td>99.000000</td>\n",
              "      <td>64.000000</td>\n",
              "      <td>0.000000</td>\n",
              "      <td>0.000000</td>\n",
              "      <td>27.000000</td>\n",
              "      <td>0.245000</td>\n",
              "      <td>24.000000</td>\n",
              "      <td>0.000000</td>\n",
              "    </tr>\n",
              "    <tr>\n",
              "      <th>50%</th>\n",
              "      <td>3.00000</td>\n",
              "      <td>115.000000</td>\n",
              "      <td>70.000000</td>\n",
              "      <td>21.000000</td>\n",
              "      <td>0.000000</td>\n",
              "      <td>31.200000</td>\n",
              "      <td>0.348000</td>\n",
              "      <td>29.000000</td>\n",
              "      <td>0.000000</td>\n",
              "    </tr>\n",
              "    <tr>\n",
              "      <th>75%</th>\n",
              "      <td>5.75000</td>\n",
              "      <td>141.000000</td>\n",
              "      <td>82.000000</td>\n",
              "      <td>32.000000</td>\n",
              "      <td>113.750000</td>\n",
              "      <td>35.575000</td>\n",
              "      <td>0.640750</td>\n",
              "      <td>39.750000</td>\n",
              "      <td>1.000000</td>\n",
              "    </tr>\n",
              "    <tr>\n",
              "      <th>max</th>\n",
              "      <td>13.00000</td>\n",
              "      <td>196.000000</td>\n",
              "      <td>102.000000</td>\n",
              "      <td>52.000000</td>\n",
              "      <td>579.000000</td>\n",
              "      <td>49.300000</td>\n",
              "      <td>1.600000</td>\n",
              "      <td>68.000000</td>\n",
              "      <td>1.000000</td>\n",
              "    </tr>\n",
              "  </tbody>\n",
              "</table>\n",
              "</div>\n",
              "      <button class=\"colab-df-convert\" onclick=\"convertToInteractive('df-458b79e6-d90b-44ba-8b88-8364d1a36296')\"\n",
              "              title=\"Convert this dataframe to an interactive table.\"\n",
              "              style=\"display:none;\">\n",
              "        \n",
              "  <svg xmlns=\"http://www.w3.org/2000/svg\" height=\"24px\"viewBox=\"0 0 24 24\"\n",
              "       width=\"24px\">\n",
              "    <path d=\"M0 0h24v24H0V0z\" fill=\"none\"/>\n",
              "    <path d=\"M18.56 5.44l.94 2.06.94-2.06 2.06-.94-2.06-.94-.94-2.06-.94 2.06-2.06.94zm-11 1L8.5 8.5l.94-2.06 2.06-.94-2.06-.94L8.5 2.5l-.94 2.06-2.06.94zm10 10l.94 2.06.94-2.06 2.06-.94-2.06-.94-.94-2.06-.94 2.06-2.06.94z\"/><path d=\"M17.41 7.96l-1.37-1.37c-.4-.4-.92-.59-1.43-.59-.52 0-1.04.2-1.43.59L10.3 9.45l-7.72 7.72c-.78.78-.78 2.05 0 2.83L4 21.41c.39.39.9.59 1.41.59.51 0 1.02-.2 1.41-.59l7.78-7.78 2.81-2.81c.8-.78.8-2.07 0-2.86zM5.41 20L4 18.59l7.72-7.72 1.47 1.35L5.41 20z\"/>\n",
              "  </svg>\n",
              "      </button>\n",
              "      \n",
              "  <style>\n",
              "    .colab-df-container {\n",
              "      display:flex;\n",
              "      flex-wrap:wrap;\n",
              "      gap: 12px;\n",
              "    }\n",
              "\n",
              "    .colab-df-convert {\n",
              "      background-color: #E8F0FE;\n",
              "      border: none;\n",
              "      border-radius: 50%;\n",
              "      cursor: pointer;\n",
              "      display: none;\n",
              "      fill: #1967D2;\n",
              "      height: 32px;\n",
              "      padding: 0 0 0 0;\n",
              "      width: 32px;\n",
              "    }\n",
              "\n",
              "    .colab-df-convert:hover {\n",
              "      background-color: #E2EBFA;\n",
              "      box-shadow: 0px 1px 2px rgba(60, 64, 67, 0.3), 0px 1px 3px 1px rgba(60, 64, 67, 0.15);\n",
              "      fill: #174EA6;\n",
              "    }\n",
              "\n",
              "    [theme=dark] .colab-df-convert {\n",
              "      background-color: #3B4455;\n",
              "      fill: #D2E3FC;\n",
              "    }\n",
              "\n",
              "    [theme=dark] .colab-df-convert:hover {\n",
              "      background-color: #434B5C;\n",
              "      box-shadow: 0px 1px 3px 1px rgba(0, 0, 0, 0.15);\n",
              "      filter: drop-shadow(0px 1px 2px rgba(0, 0, 0, 0.3));\n",
              "      fill: #FFFFFF;\n",
              "    }\n",
              "  </style>\n",
              "\n",
              "      <script>\n",
              "        const buttonEl =\n",
              "          document.querySelector('#df-458b79e6-d90b-44ba-8b88-8364d1a36296 button.colab-df-convert');\n",
              "        buttonEl.style.display =\n",
              "          google.colab.kernel.accessAllowed ? 'block' : 'none';\n",
              "\n",
              "        async function convertToInteractive(key) {\n",
              "          const element = document.querySelector('#df-458b79e6-d90b-44ba-8b88-8364d1a36296');\n",
              "          const dataTable =\n",
              "            await google.colab.kernel.invokeFunction('convertToInteractive',\n",
              "                                                     [key], {});\n",
              "          if (!dataTable) return;\n",
              "\n",
              "          const docLinkHtml = 'Like what you see? Visit the ' +\n",
              "            '<a target=\"_blank\" href=https://colab.research.google.com/notebooks/data_table.ipynb>data table notebook</a>'\n",
              "            + ' to learn more about interactive tables.';\n",
              "          element.innerHTML = '';\n",
              "          dataTable['output_type'] = 'display_data';\n",
              "          await google.colab.output.renderOutput(dataTable, element);\n",
              "          const docLink = document.createElement('div');\n",
              "          docLink.innerHTML = docLinkHtml;\n",
              "          element.appendChild(docLink);\n",
              "        }\n",
              "      </script>\n",
              "    </div>\n",
              "  </div>\n",
              "  "
            ]
          },
          "metadata": {},
          "execution_count": 16
        }
      ]
    },
    {
      "cell_type": "code",
      "source": [
        "# to view median of testing data (df_test)\n",
        "df_test.median()"
      ],
      "metadata": {
        "colab": {
          "base_uri": "https://localhost:8080/"
        },
        "id": "CF1kO4tb3yAm",
        "outputId": "39197e0a-b8df-48bf-e3e9-36b72de2c4e3"
      },
      "execution_count": null,
      "outputs": [
        {
          "output_type": "execute_result",
          "data": {
            "text/plain": [
              "Pregnancies                   3.000\n",
              "Glucose                     115.000\n",
              "BloodPressure                70.000\n",
              "SkinThickness                21.000\n",
              "Insulin                       0.000\n",
              "BMI                          31.200\n",
              "DiabetesPedigreeFunction      0.348\n",
              "Age                          29.000\n",
              "Outcome                       0.000\n",
              "dtype: float64"
            ]
          },
          "metadata": {},
          "execution_count": 17
        }
      ]
    },
    {
      "cell_type": "code",
      "source": [
        "# to view mode of testing data (df_test)\n",
        "df_test.mode()"
      ],
      "metadata": {
        "colab": {
          "base_uri": "https://localhost:8080/",
          "height": 175
        },
        "id": "e24ypl2H3zr-",
        "outputId": "f29b6661-567b-4e8d-9c75-b01f6aa9c2ae"
      },
      "execution_count": null,
      "outputs": [
        {
          "output_type": "execute_result",
          "data": {
            "text/plain": [
              "   Pregnancies  Glucose  BloodPressure  SkinThickness  Insulin   BMI  \\\n",
              "0          1.0    111.0           70.0            0.0      0.0  29.7   \n",
              "1          NaN      NaN            NaN            NaN      NaN  30.8   \n",
              "2          NaN      NaN            NaN            NaN      NaN  31.2   \n",
              "3          NaN      NaN            NaN            NaN      NaN  33.3   \n",
              "\n",
              "   DiabetesPedigreeFunction   Age  Outcome  \n",
              "0                     0.245  21.0      0.0  \n",
              "1                       NaN  24.0      NaN  \n",
              "2                       NaN   NaN      NaN  \n",
              "3                       NaN   NaN      NaN  "
            ],
            "text/html": [
              "\n",
              "  <div id=\"df-9b0d6016-c51b-4314-b8b6-27f916cf7f7f\">\n",
              "    <div class=\"colab-df-container\">\n",
              "      <div>\n",
              "<style scoped>\n",
              "    .dataframe tbody tr th:only-of-type {\n",
              "        vertical-align: middle;\n",
              "    }\n",
              "\n",
              "    .dataframe tbody tr th {\n",
              "        vertical-align: top;\n",
              "    }\n",
              "\n",
              "    .dataframe thead th {\n",
              "        text-align: right;\n",
              "    }\n",
              "</style>\n",
              "<table border=\"1\" class=\"dataframe\">\n",
              "  <thead>\n",
              "    <tr style=\"text-align: right;\">\n",
              "      <th></th>\n",
              "      <th>Pregnancies</th>\n",
              "      <th>Glucose</th>\n",
              "      <th>BloodPressure</th>\n",
              "      <th>SkinThickness</th>\n",
              "      <th>Insulin</th>\n",
              "      <th>BMI</th>\n",
              "      <th>DiabetesPedigreeFunction</th>\n",
              "      <th>Age</th>\n",
              "      <th>Outcome</th>\n",
              "    </tr>\n",
              "  </thead>\n",
              "  <tbody>\n",
              "    <tr>\n",
              "      <th>0</th>\n",
              "      <td>1.0</td>\n",
              "      <td>111.0</td>\n",
              "      <td>70.0</td>\n",
              "      <td>0.0</td>\n",
              "      <td>0.0</td>\n",
              "      <td>29.7</td>\n",
              "      <td>0.245</td>\n",
              "      <td>21.0</td>\n",
              "      <td>0.0</td>\n",
              "    </tr>\n",
              "    <tr>\n",
              "      <th>1</th>\n",
              "      <td>NaN</td>\n",
              "      <td>NaN</td>\n",
              "      <td>NaN</td>\n",
              "      <td>NaN</td>\n",
              "      <td>NaN</td>\n",
              "      <td>30.8</td>\n",
              "      <td>NaN</td>\n",
              "      <td>24.0</td>\n",
              "      <td>NaN</td>\n",
              "    </tr>\n",
              "    <tr>\n",
              "      <th>2</th>\n",
              "      <td>NaN</td>\n",
              "      <td>NaN</td>\n",
              "      <td>NaN</td>\n",
              "      <td>NaN</td>\n",
              "      <td>NaN</td>\n",
              "      <td>31.2</td>\n",
              "      <td>NaN</td>\n",
              "      <td>NaN</td>\n",
              "      <td>NaN</td>\n",
              "    </tr>\n",
              "    <tr>\n",
              "      <th>3</th>\n",
              "      <td>NaN</td>\n",
              "      <td>NaN</td>\n",
              "      <td>NaN</td>\n",
              "      <td>NaN</td>\n",
              "      <td>NaN</td>\n",
              "      <td>33.3</td>\n",
              "      <td>NaN</td>\n",
              "      <td>NaN</td>\n",
              "      <td>NaN</td>\n",
              "    </tr>\n",
              "  </tbody>\n",
              "</table>\n",
              "</div>\n",
              "      <button class=\"colab-df-convert\" onclick=\"convertToInteractive('df-9b0d6016-c51b-4314-b8b6-27f916cf7f7f')\"\n",
              "              title=\"Convert this dataframe to an interactive table.\"\n",
              "              style=\"display:none;\">\n",
              "        \n",
              "  <svg xmlns=\"http://www.w3.org/2000/svg\" height=\"24px\"viewBox=\"0 0 24 24\"\n",
              "       width=\"24px\">\n",
              "    <path d=\"M0 0h24v24H0V0z\" fill=\"none\"/>\n",
              "    <path d=\"M18.56 5.44l.94 2.06.94-2.06 2.06-.94-2.06-.94-.94-2.06-.94 2.06-2.06.94zm-11 1L8.5 8.5l.94-2.06 2.06-.94-2.06-.94L8.5 2.5l-.94 2.06-2.06.94zm10 10l.94 2.06.94-2.06 2.06-.94-2.06-.94-.94-2.06-.94 2.06-2.06.94z\"/><path d=\"M17.41 7.96l-1.37-1.37c-.4-.4-.92-.59-1.43-.59-.52 0-1.04.2-1.43.59L10.3 9.45l-7.72 7.72c-.78.78-.78 2.05 0 2.83L4 21.41c.39.39.9.59 1.41.59.51 0 1.02-.2 1.41-.59l7.78-7.78 2.81-2.81c.8-.78.8-2.07 0-2.86zM5.41 20L4 18.59l7.72-7.72 1.47 1.35L5.41 20z\"/>\n",
              "  </svg>\n",
              "      </button>\n",
              "      \n",
              "  <style>\n",
              "    .colab-df-container {\n",
              "      display:flex;\n",
              "      flex-wrap:wrap;\n",
              "      gap: 12px;\n",
              "    }\n",
              "\n",
              "    .colab-df-convert {\n",
              "      background-color: #E8F0FE;\n",
              "      border: none;\n",
              "      border-radius: 50%;\n",
              "      cursor: pointer;\n",
              "      display: none;\n",
              "      fill: #1967D2;\n",
              "      height: 32px;\n",
              "      padding: 0 0 0 0;\n",
              "      width: 32px;\n",
              "    }\n",
              "\n",
              "    .colab-df-convert:hover {\n",
              "      background-color: #E2EBFA;\n",
              "      box-shadow: 0px 1px 2px rgba(60, 64, 67, 0.3), 0px 1px 3px 1px rgba(60, 64, 67, 0.15);\n",
              "      fill: #174EA6;\n",
              "    }\n",
              "\n",
              "    [theme=dark] .colab-df-convert {\n",
              "      background-color: #3B4455;\n",
              "      fill: #D2E3FC;\n",
              "    }\n",
              "\n",
              "    [theme=dark] .colab-df-convert:hover {\n",
              "      background-color: #434B5C;\n",
              "      box-shadow: 0px 1px 3px 1px rgba(0, 0, 0, 0.15);\n",
              "      filter: drop-shadow(0px 1px 2px rgba(0, 0, 0, 0.3));\n",
              "      fill: #FFFFFF;\n",
              "    }\n",
              "  </style>\n",
              "\n",
              "      <script>\n",
              "        const buttonEl =\n",
              "          document.querySelector('#df-9b0d6016-c51b-4314-b8b6-27f916cf7f7f button.colab-df-convert');\n",
              "        buttonEl.style.display =\n",
              "          google.colab.kernel.accessAllowed ? 'block' : 'none';\n",
              "\n",
              "        async function convertToInteractive(key) {\n",
              "          const element = document.querySelector('#df-9b0d6016-c51b-4314-b8b6-27f916cf7f7f');\n",
              "          const dataTable =\n",
              "            await google.colab.kernel.invokeFunction('convertToInteractive',\n",
              "                                                     [key], {});\n",
              "          if (!dataTable) return;\n",
              "\n",
              "          const docLinkHtml = 'Like what you see? Visit the ' +\n",
              "            '<a target=\"_blank\" href=https://colab.research.google.com/notebooks/data_table.ipynb>data table notebook</a>'\n",
              "            + ' to learn more about interactive tables.';\n",
              "          element.innerHTML = '';\n",
              "          dataTable['output_type'] = 'display_data';\n",
              "          await google.colab.output.renderOutput(dataTable, element);\n",
              "          const docLink = document.createElement('div');\n",
              "          docLink.innerHTML = docLinkHtml;\n",
              "          element.appendChild(docLink);\n",
              "        }\n",
              "      </script>\n",
              "    </div>\n",
              "  </div>\n",
              "  "
            ]
          },
          "metadata": {},
          "execution_count": 18
        }
      ]
    },
    {
      "cell_type": "markdown",
      "source": [
        "### 2.2.3 Missing Value Detection & Elimination"
      ],
      "metadata": {
        "id": "ywswl3L2qKZ5"
      }
    },
    {
      "cell_type": "markdown",
      "source": [
        "#### 2.2.3.1 Missing Value Detection"
      ],
      "metadata": {
        "id": "XNAk2gHwq6er"
      }
    },
    {
      "cell_type": "code",
      "source": [
        "# to check nunmber of missing value\n",
        "df.isna().sum().sum()"
      ],
      "metadata": {
        "id": "KClXb6OIq56u",
        "colab": {
          "base_uri": "https://localhost:8080/"
        },
        "outputId": "5b222f1e-6ea7-4c05-8678-d0d0d9d69a43"
      },
      "execution_count": null,
      "outputs": [
        {
          "output_type": "execute_result",
          "data": {
            "text/plain": [
              "0"
            ]
          },
          "metadata": {},
          "execution_count": 19
        }
      ]
    },
    {
      "cell_type": "code",
      "source": [
        "df.isnull().sum()"
      ],
      "metadata": {
        "colab": {
          "base_uri": "https://localhost:8080/"
        },
        "id": "PohWlcSF5o80",
        "outputId": "09db4420-d98e-4e0d-bc5b-1bba98022613"
      },
      "execution_count": null,
      "outputs": [
        {
          "output_type": "execute_result",
          "data": {
            "text/plain": [
              "Pregnancies                 0\n",
              "Glucose                     0\n",
              "BloodPressure               0\n",
              "SkinThickness               0\n",
              "Insulin                     0\n",
              "BMI                         0\n",
              "DiabetesPedigreeFunction    0\n",
              "Age                         0\n",
              "Outcome                     0\n",
              "dtype: int64"
            ]
          },
          "metadata": {},
          "execution_count": 20
        }
      ]
    },
    {
      "cell_type": "markdown",
      "source": [
        "#### 2.2.3.2 Missing Value Elimination"
      ],
      "metadata": {
        "id": "XDggYmvGq94G"
      }
    },
    {
      "cell_type": "markdown",
      "source": [
        "- No Missing value found : Elimination is no needed"
      ],
      "metadata": {
        "id": "ztFPTpwY3-Z2"
      }
    },
    {
      "cell_type": "markdown",
      "source": [
        "### 2.2.4 Exploratory Data Analysis (EDA) of your variable Y"
      ],
      "metadata": {
        "id": "SaF5xSRUqZO-"
      }
    },
    {
      "cell_type": "markdown",
      "source": [
        "#### 2.2.4.1 Define your X (Independent variable)"
      ],
      "metadata": {
        "id": "WCVeFB1EtDIo"
      }
    },
    {
      "cell_type": "code",
      "source": [
        "# to view column  name in df_train\n",
        "df_train.columns"
      ],
      "metadata": {
        "id": "blFwboKaqnJ2",
        "colab": {
          "base_uri": "https://localhost:8080/"
        },
        "outputId": "13fff57e-8391-46ac-e15c-c654fc37e4e0"
      },
      "execution_count": null,
      "outputs": [
        {
          "output_type": "execute_result",
          "data": {
            "text/plain": [
              "Index(['Pregnancies', 'Glucose', 'BloodPressure', 'SkinThickness', 'Insulin',\n",
              "       'BMI', 'DiabetesPedigreeFunction', 'Age', 'Outcome'],\n",
              "      dtype='object')"
            ]
          },
          "metadata": {},
          "execution_count": 21
        }
      ]
    },
    {
      "cell_type": "code",
      "source": [
        "# first time selection for X , All column (but quality) will be selected\n",
        "\n",
        "# quality column (select value = 1 for column mode) will be dropped (It will be our target later)\n",
        "\n",
        "# Define x for model training\n",
        "x_train = df_train.drop('Outcome',1)\n",
        "print(\"col X_train :\",x_train.columns)\n",
        "\n",
        "print(\"----------------------------\\n\")\n",
        "\n",
        "# Define X for model testing\n",
        "x_test = df_test.drop('Outcome',1)\n",
        "print(\"col X_test :\",x_test.columns)\n"
      ],
      "metadata": {
        "id": "l0bilH8HtPlm",
        "colab": {
          "base_uri": "https://localhost:8080/"
        },
        "outputId": "342bd9a9-476f-44a4-ee51-019cdf600a1d"
      },
      "execution_count": null,
      "outputs": [
        {
          "output_type": "stream",
          "name": "stdout",
          "text": [
            "col X_train : Index(['Pregnancies', 'Glucose', 'BloodPressure', 'SkinThickness', 'Insulin',\n",
            "       'BMI', 'DiabetesPedigreeFunction', 'Age'],\n",
            "      dtype='object')\n",
            "----------------------------\n",
            "\n",
            "col X_test : Index(['Pregnancies', 'Glucose', 'BloodPressure', 'SkinThickness', 'Insulin',\n",
            "       'BMI', 'DiabetesPedigreeFunction', 'Age'],\n",
            "      dtype='object')\n"
          ]
        }
      ]
    },
    {
      "cell_type": "markdown",
      "source": [
        "#### 2.2.4.1 Define your Y (Dependent Variable)"
      ],
      "metadata": {
        "id": "kvjyUwxAtKf0"
      }
    },
    {
      "cell_type": "code",
      "source": [
        "# define y for training data\n",
        "y_train = df_train['Outcome']\n",
        "\n",
        "y_train.head()\n"
      ],
      "metadata": {
        "colab": {
          "base_uri": "https://localhost:8080/"
        },
        "id": "QQbYFIVi49AE",
        "outputId": "c2d08b85-4d2f-4412-b325-59e2e21eaec7"
      },
      "execution_count": null,
      "outputs": [
        {
          "output_type": "execute_result",
          "data": {
            "text/plain": [
              "5      0\n",
              "210    0\n",
              "588    1\n",
              "554    0\n",
              "466    0\n",
              "Name: Outcome, dtype: int64"
            ]
          },
          "metadata": {},
          "execution_count": 23
        }
      ]
    },
    {
      "cell_type": "code",
      "source": [
        "# define Y for testing data\n",
        "y_test = df_test['Outcome']\n",
        "y_test.head()\n"
      ],
      "metadata": {
        "colab": {
          "base_uri": "https://localhost:8080/"
        },
        "id": "Li92KZzDdzRn",
        "outputId": "9a539fa0-297e-47af-af8f-b0647ae7efe4"
      },
      "execution_count": null,
      "outputs": [
        {
          "output_type": "execute_result",
          "data": {
            "text/plain": [
              "659    1\n",
              "183    0\n",
              "536    0\n",
              "212    0\n",
              "496    0\n",
              "Name: Outcome, dtype: int64"
            ]
          },
          "metadata": {},
          "execution_count": 24
        }
      ]
    },
    {
      "cell_type": "markdown",
      "source": [
        "#### 2.2.4.2 EDA for Your Y"
      ],
      "metadata": {
        "id": "KedgpmwqtQK2"
      }
    },
    {
      "cell_type": "code",
      "source": [
        "# we will use histrogram to view our diabetes possibilities distribution\n",
        "\n",
        "# explo_count = ['Outcome']\n",
        "sns.set(style=\"darkgrid\")\n",
        "fig , axs = plt.subplots(1,figsize = (6,5))\n",
        "sns.countplot(x= 'Outcome', data = df , palette = 'hls')\n"
      ],
      "metadata": {
        "id": "8kH8hoh4tTbw",
        "colab": {
          "base_uri": "https://localhost:8080/",
          "height": 356
        },
        "outputId": "9260e3c1-2375-4ac6-f2f1-f7913d3aac3a"
      },
      "execution_count": null,
      "outputs": [
        {
          "output_type": "execute_result",
          "data": {
            "text/plain": [
              "<matplotlib.axes._subplots.AxesSubplot at 0x7f6bef2f48d0>"
            ]
          },
          "metadata": {},
          "execution_count": 25
        },
        {
          "output_type": "display_data",
          "data": {
            "text/plain": [
              "<Figure size 432x360 with 1 Axes>"
            ],
            "image/png": "[encoded data removed]"
          },
          "metadata": {}
        }
      ]
    },
    {
      "cell_type": "markdown",
      "source": [
        "### 2.2.5 Ask your own good Questions"
      ],
      "metadata": {
        "id": "G0evyyrZtUjA"
      }
    },
    {
      "cell_type": "markdown",
      "source": [
        "#### 2.2.5.1 Your own Questions"
      ],
      "metadata": {
        "id": "b2AXIOI1t9MS"
      }
    },
    {
      "cell_type": "markdown",
      "source": [
        "- Q1. How Glucose level affected with Diabetes Possibility\n",
        "- Q2. What is the most age range for Diabetes Possibility\n",
        "- Q3. How BMI affected with Diabetes Possibility"
      ],
      "metadata": {
        "id": "1wUMoG827z6S"
      }
    },
    {
      "cell_type": "markdown",
      "source": [
        "#### 2.2.5.2 Use Visualization to answer my own question"
      ],
      "metadata": {
        "id": "auGSZlmA9xPk"
      }
    },
    {
      "cell_type": "code",
      "source": [
        "# Q1. How Glucose level affected with Diabetes Possibility\n",
        "plt.scatter(  df_train['Glucose'], df_train['Outcome'] ,  color = '#E2701F')\n",
        "plt.xlabel('Glucose Level')\n",
        "plt.ylabel('Diabetes Outcome')\n",
        "plt.grid()\n",
        "plt.show()\n"
      ],
      "metadata": {
        "id": "NhpPmsxqt5Yr",
        "colab": {
          "base_uri": "https://localhost:8080/",
          "height": 285
        },
        "outputId": "60aa0bb8-61de-4586-92fb-b6ea14098a1e"
      },
      "execution_count": null,
      "outputs": [
        {
          "output_type": "display_data",
          "data": {
            "text/plain": [
              "<Figure size 432x288 with 1 Axes>"
            ],
            "image/png": "[encoded data removed]"
          },
          "metadata": {}
        }
      ]
    },
    {
      "cell_type": "code",
      "source": [
        "# Q2. What is the most age range for Diabetes Possibility\n",
        "plt.scatter(  df_train['Age'], df_train['Outcome'] ,  color = '#DE1FE2')\n",
        "plt.xlabel('Age')\n",
        "plt.ylabel('Diabetes Outcome')\n",
        "plt.grid()\n",
        "plt.show()"
      ],
      "metadata": {
        "colab": {
          "base_uri": "https://localhost:8080/",
          "height": 285
        },
        "id": "AbGl8MFX-dID",
        "outputId": "d3bb777a-0245-4d87-ae80-3e4489d488c2"
      },
      "execution_count": null,
      "outputs": [
        {
          "output_type": "display_data",
          "data": {
            "text/plain": [
              "<Figure size 432x288 with 1 Axes>"
            ],
            "image/png": "[encoded data removed]"
          },
          "metadata": {}
        }
      ]
    },
    {
      "cell_type": "code",
      "source": [
        "# Q3. How BMI affected with Diabetes Possibility\n",
        "\n",
        "plt.scatter(  df_train['BMI'], df_train['Outcome'] ,  color = 'green')\n",
        "plt.xlabel('BMI')\n",
        "plt.ylabel('Diabetes Outcome')\n",
        "plt.grid()\n",
        "plt.show()"
      ],
      "metadata": {
        "colab": {
          "base_uri": "https://localhost:8080/",
          "height": 285
        },
        "id": "Um6S43Q-_UpU",
        "outputId": "1b88a37c-7293-4182-c977-4f5cd529c5c8"
      },
      "execution_count": null,
      "outputs": [
        {
          "output_type": "display_data",
          "data": {
            "text/plain": [
              "<Figure size 432x288 with 1 Axes>"
            ],
            "image/png": "[encoded data removed]"
          },
          "metadata": {}
        }
      ]
    },
    {
      "cell_type": "markdown",
      "source": [
        "### 2.2.6  Correlation Representation\n",
        "\n",
        "- between independent variable (X) and Dependent Variable (Y)"
      ],
      "metadata": {
        "id": "kylvB9MbuWLM"
      }
    },
    {
      "cell_type": "markdown",
      "source": [
        "#### 2.2.6.1 Pearson Correlation"
      ],
      "metadata": {
        "id": "3XJzi23K_2OC"
      }
    },
    {
      "cell_type": "code",
      "source": [
        "# Using Pearson Correlation to view overall relationship between each other within df_train\n",
        "plt.figure(figsize=(12,10))\n",
        "cor = df_train.corr()\n",
        "sns.heatmap(cor, annot=True, cmap=plt.cm.Reds)\n",
        "plt.show()"
      ],
      "metadata": {
        "id": "2Fg60XXQup8M",
        "colab": {
          "base_uri": "https://localhost:8080/",
          "height": 733
        },
        "outputId": "00eed057-aabe-46ee-ea25-0391befecddf"
      },
      "execution_count": null,
      "outputs": [
        {
          "output_type": "display_data",
          "data": {
            "text/plain": [
              "<Figure size 864x720 with 2 Axes>"
            ],
            "image/png": "[encoded data removed]"
          },
          "metadata": {}
        }
      ]
    },
    {
      "cell_type": "markdown",
      "source": [
        "### 2.2.7 Data preparation"
      ],
      "metadata": {
        "id": "F_fXDC1IusKg"
      }
    },
    {
      "cell_type": "markdown",
      "source": [
        "#### 2.2.7.1 Dummy Creation"
      ],
      "metadata": {
        "id": "SsjsQklHu1IV"
      }
    },
    {
      "cell_type": "code",
      "source": [
        "# dummy Creation for traing data\n",
        "x_train_dummy = pd.get_dummies(x_train).copy()\n",
        "x_train_dummy.head()"
      ],
      "metadata": {
        "id": "mnsvvPyMuxaq",
        "colab": {
          "base_uri": "https://localhost:8080/",
          "height": 206
        },
        "outputId": "fa684be9-f539-4053-b580-456c401686ee"
      },
      "execution_count": null,
      "outputs": [
        {
          "output_type": "execute_result",
          "data": {
            "text/plain": [
              "     Pregnancies  Glucose  BloodPressure  SkinThickness  Insulin   BMI  \\\n",
              "5              5      116             74              0        0  25.6   \n",
              "210            2       81             60             22        0  27.7   \n",
              "588            3      176             86             27      156  33.3   \n",
              "554            1       84             64             23      115  36.9   \n",
              "466            0       74             52             10       36  27.8   \n",
              "\n",
              "     DiabetesPedigreeFunction  Age  \n",
              "5                       0.201   30  \n",
              "210                     0.290   25  \n",
              "588                     1.154   52  \n",
              "554                     0.471   28  \n",
              "466                     0.269   22  "
            ],
            "text/html": [
              "\n",
              "  <div id=\"df-bc005ad8-6c73-431e-be47-18d4c6519d6c\">\n",
              "    <div class=\"colab-df-container\">\n",
              "      <div>\n",
              "<style scoped>\n",
              "    .dataframe tbody tr th:only-of-type {\n",
              "        vertical-align: middle;\n",
              "    }\n",
              "\n",
              "    .dataframe tbody tr th {\n",
              "        vertical-align: top;\n",
              "    }\n",
              "\n",
              "    .dataframe thead th {\n",
              "        text-align: right;\n",
              "    }\n",
              "</style>\n",
              "<table border=\"1\" class=\"dataframe\">\n",
              "  <thead>\n",
              "    <tr style=\"text-align: right;\">\n",
              "      <th></th>\n",
              "      <th>Pregnancies</th>\n",
              "      <th>Glucose</th>\n",
              "      <th>BloodPressure</th>\n",
              "      <th>SkinThickness</th>\n",
              "      <th>Insulin</th>\n",
              "      <th>BMI</th>\n",
              "      <th>DiabetesPedigreeFunction</th>\n",
              "      <th>Age</th>\n",
              "    </tr>\n",
              "  </thead>\n",
              "  <tbody>\n",
              "    <tr>\n",
              "      <th>5</th>\n",
              "      <td>5</td>\n",
              "      <td>116</td>\n",
              "      <td>74</td>\n",
              "      <td>0</td>\n",
              "      <td>0</td>\n",
              "      <td>25.6</td>\n",
              "      <td>0.201</td>\n",
              "      <td>30</td>\n",
              "    </tr>\n",
              "    <tr>\n",
              "      <th>210</th>\n",
              "      <td>2</td>\n",
              "      <td>81</td>\n",
              "      <td>60</td>\n",
              "      <td>22</td>\n",
              "      <td>0</td>\n",
              "      <td>27.7</td>\n",
              "      <td>0.290</td>\n",
              "      <td>25</td>\n",
              "    </tr>\n",
              "    <tr>\n",
              "      <th>588</th>\n",
              "      <td>3</td>\n",
              "      <td>176</td>\n",
              "      <td>86</td>\n",
              "      <td>27</td>\n",
              "      <td>156</td>\n",
              "      <td>33.3</td>\n",
              "      <td>1.154</td>\n",
              "      <td>52</td>\n",
              "    </tr>\n",
              "    <tr>\n",
              "      <th>554</th>\n",
              "      <td>1</td>\n",
              "      <td>84</td>\n",
              "      <td>64</td>\n",
              "      <td>23</td>\n",
              "      <td>115</td>\n",
              "      <td>36.9</td>\n",
              "      <td>0.471</td>\n",
              "      <td>28</td>\n",
              "    </tr>\n",
              "    <tr>\n",
              "      <th>466</th>\n",
              "      <td>0</td>\n",
              "      <td>74</td>\n",
              "      <td>52</td>\n",
              "      <td>10</td>\n",
              "      <td>36</td>\n",
              "      <td>27.8</td>\n",
              "      <td>0.269</td>\n",
              "      <td>22</td>\n",
              "    </tr>\n",
              "  </tbody>\n",
              "</table>\n",
              "</div>\n",
              "      <button class=\"colab-df-convert\" onclick=\"convertToInteractive('df-bc005ad8-6c73-431e-be47-18d4c6519d6c')\"\n",
              "              title=\"Convert this dataframe to an interactive table.\"\n",
              "              style=\"display:none;\">\n",
              "        \n",
              "  <svg xmlns=\"http://www.w3.org/2000/svg\" height=\"24px\"viewBox=\"0 0 24 24\"\n",
              "       width=\"24px\">\n",
              "    <path d=\"M0 0h24v24H0V0z\" fill=\"none\"/>\n",
              "    <path d=\"M18.56 5.44l.94 2.06.94-2.06 2.06-.94-2.06-.94-.94-2.06-.94 2.06-2.06.94zm-11 1L8.5 8.5l.94-2.06 2.06-.94-2.06-.94L8.5 2.5l-.94 2.06-2.06.94zm10 10l.94 2.06.94-2.06 2.06-.94-2.06-.94-.94-2.06-.94 2.06-2.06.94z\"/><path d=\"M17.41 7.96l-1.37-1.37c-.4-.4-.92-.59-1.43-.59-.52 0-1.04.2-1.43.59L10.3 9.45l-7.72 7.72c-.78.78-.78 2.05 0 2.83L4 21.41c.39.39.9.59 1.41.59.51 0 1.02-.2 1.41-.59l7.78-7.78 2.81-2.81c.8-.78.8-2.07 0-2.86zM5.41 20L4 18.59l7.72-7.72 1.47 1.35L5.41 20z\"/>\n",
              "  </svg>\n",
              "      </button>\n",
              "      \n",
              "  <style>\n",
              "    .colab-df-container {\n",
              "      display:flex;\n",
              "      flex-wrap:wrap;\n",
              "      gap: 12px;\n",
              "    }\n",
              "\n",
              "    .colab-df-convert {\n",
              "      background-color: #E8F0FE;\n",
              "      border: none;\n",
              "      border-radius: 50%;\n",
              "      cursor: pointer;\n",
              "      display: none;\n",
              "      fill: #1967D2;\n",
              "      height: 32px;\n",
              "      padding: 0 0 0 0;\n",
              "      width: 32px;\n",
              "    }\n",
              "\n",
              "    .colab-df-convert:hover {\n",
              "      background-color: #E2EBFA;\n",
              "      box-shadow: 0px 1px 2px rgba(60, 64, 67, 0.3), 0px 1px 3px 1px rgba(60, 64, 67, 0.15);\n",
              "      fill: #174EA6;\n",
              "    }\n",
              "\n",
              "    [theme=dark] .colab-df-convert {\n",
              "      background-color: #3B4455;\n",
              "      fill: #D2E3FC;\n",
              "    }\n",
              "\n",
              "    [theme=dark] .colab-df-convert:hover {\n",
              "      background-color: #434B5C;\n",
              "      box-shadow: 0px 1px 3px 1px rgba(0, 0, 0, 0.15);\n",
              "      filter: drop-shadow(0px 1px 2px rgba(0, 0, 0, 0.3));\n",
              "      fill: #FFFFFF;\n",
              "    }\n",
              "  </style>\n",
              "\n",
              "      <script>\n",
              "        const buttonEl =\n",
              "          document.querySelector('#df-bc005ad8-6c73-431e-be47-18d4c6519d6c button.colab-df-convert');\n",
              "        buttonEl.style.display =\n",
              "          google.colab.kernel.accessAllowed ? 'block' : 'none';\n",
              "\n",
              "        async function convertToInteractive(key) {\n",
              "          const element = document.querySelector('#df-bc005ad8-6c73-431e-be47-18d4c6519d6c');\n",
              "          const dataTable =\n",
              "            await google.colab.kernel.invokeFunction('convertToInteractive',\n",
              "                                                     [key], {});\n",
              "          if (!dataTable) return;\n",
              "\n",
              "          const docLinkHtml = 'Like what you see? Visit the ' +\n",
              "            '<a target=\"_blank\" href=https://colab.research.google.com/notebooks/data_table.ipynb>data table notebook</a>'\n",
              "            + ' to learn more about interactive tables.';\n",
              "          element.innerHTML = '';\n",
              "          dataTable['output_type'] = 'display_data';\n",
              "          await google.colab.output.renderOutput(dataTable, element);\n",
              "          const docLink = document.createElement('div');\n",
              "          docLink.innerHTML = docLinkHtml;\n",
              "          element.appendChild(docLink);\n",
              "        }\n",
              "      </script>\n",
              "    </div>\n",
              "  </div>\n",
              "  "
            ]
          },
          "metadata": {},
          "execution_count": 30
        }
      ]
    },
    {
      "cell_type": "code",
      "source": [
        "# to view its column \n",
        "x_train_dummy_features = x_train_dummy.columns\n",
        "x_train_dummy_features"
      ],
      "metadata": {
        "id": "mYaUlLbsvPIY",
        "colab": {
          "base_uri": "https://localhost:8080/"
        },
        "outputId": "8c1eaec7-81f0-4411-d40b-f8b836966030"
      },
      "execution_count": null,
      "outputs": [
        {
          "output_type": "execute_result",
          "data": {
            "text/plain": [
              "Index(['Pregnancies', 'Glucose', 'BloodPressure', 'SkinThickness', 'Insulin',\n",
              "       'BMI', 'DiabetesPedigreeFunction', 'Age'],\n",
              "      dtype='object')"
            ]
          },
          "metadata": {},
          "execution_count": 31
        }
      ]
    },
    {
      "cell_type": "code",
      "source": [
        "# dummy Creation for testing data\n",
        "x_test_dummy = pd.get_dummies(x_test).copy()\n",
        "x_test_dummy.head()"
      ],
      "metadata": {
        "colab": {
          "base_uri": "https://localhost:8080/",
          "height": 206
        },
        "id": "jSuUhBX5iiSg",
        "outputId": "7b311251-5379-4903-b457-c138f81e7d6b"
      },
      "execution_count": null,
      "outputs": [
        {
          "output_type": "execute_result",
          "data": {
            "text/plain": [
              "     Pregnancies  Glucose  BloodPressure  SkinThickness  Insulin   BMI  \\\n",
              "659            3       80             82             31       70  34.2   \n",
              "183            5       73             60              0        0  26.8   \n",
              "536            0      105             90              0        0  29.6   \n",
              "212            7      179             95             31        0  34.2   \n",
              "496            5      110             68              0        0  26.0   \n",
              "\n",
              "     DiabetesPedigreeFunction  Age  \n",
              "659                     1.292   27  \n",
              "183                     0.268   27  \n",
              "536                     0.197   46  \n",
              "212                     0.164   60  \n",
              "496                     0.292   30  "
            ],
            "text/html": [
              "\n",
              "  <div id=\"df-cf3443dd-740e-4433-87c1-54492e1b036f\">\n",
              "    <div class=\"colab-df-container\">\n",
              "      <div>\n",
              "<style scoped>\n",
              "    .dataframe tbody tr th:only-of-type {\n",
              "        vertical-align: middle;\n",
              "    }\n",
              "\n",
              "    .dataframe tbody tr th {\n",
              "        vertical-align: top;\n",
              "    }\n",
              "\n",
              "    .dataframe thead th {\n",
              "        text-align: right;\n",
              "    }\n",
              "</style>\n",
              "<table border=\"1\" class=\"dataframe\">\n",
              "  <thead>\n",
              "    <tr style=\"text-align: right;\">\n",
              "      <th></th>\n",
              "      <th>Pregnancies</th>\n",
              "      <th>Glucose</th>\n",
              "      <th>BloodPressure</th>\n",
              "      <th>SkinThickness</th>\n",
              "      <th>Insulin</th>\n",
              "      <th>BMI</th>\n",
              "      <th>DiabetesPedigreeFunction</th>\n",
              "      <th>Age</th>\n",
              "    </tr>\n",
              "  </thead>\n",
              "  <tbody>\n",
              "    <tr>\n",
              "      <th>659</th>\n",
              "      <td>3</td>\n",
              "      <td>80</td>\n",
              "      <td>82</td>\n",
              "      <td>31</td>\n",
              "      <td>70</td>\n",
              "      <td>34.2</td>\n",
              "      <td>1.292</td>\n",
              "      <td>27</td>\n",
              "    </tr>\n",
              "    <tr>\n",
              "      <th>183</th>\n",
              "      <td>5</td>\n",
              "      <td>73</td>\n",
              "      <td>60</td>\n",
              "      <td>0</td>\n",
              "      <td>0</td>\n",
              "      <td>26.8</td>\n",
              "      <td>0.268</td>\n",
              "      <td>27</td>\n",
              "    </tr>\n",
              "    <tr>\n",
              "      <th>536</th>\n",
              "      <td>0</td>\n",
              "      <td>105</td>\n",
              "      <td>90</td>\n",
              "      <td>0</td>\n",
              "      <td>0</td>\n",
              "      <td>29.6</td>\n",
              "      <td>0.197</td>\n",
              "      <td>46</td>\n",
              "    </tr>\n",
              "    <tr>\n",
              "      <th>212</th>\n",
              "      <td>7</td>\n",
              "      <td>179</td>\n",
              "      <td>95</td>\n",
              "      <td>31</td>\n",
              "      <td>0</td>\n",
              "      <td>34.2</td>\n",
              "      <td>0.164</td>\n",
              "      <td>60</td>\n",
              "    </tr>\n",
              "    <tr>\n",
              "      <th>496</th>\n",
              "      <td>5</td>\n",
              "      <td>110</td>\n",
              "      <td>68</td>\n",
              "      <td>0</td>\n",
              "      <td>0</td>\n",
              "      <td>26.0</td>\n",
              "      <td>0.292</td>\n",
              "      <td>30</td>\n",
              "    </tr>\n",
              "  </tbody>\n",
              "</table>\n",
              "</div>\n",
              "      <button class=\"colab-df-convert\" onclick=\"convertToInteractive('df-cf3443dd-740e-4433-87c1-54492e1b036f')\"\n",
              "              title=\"Convert this dataframe to an interactive table.\"\n",
              "              style=\"display:none;\">\n",
              "        \n",
              "  <svg xmlns=\"http://www.w3.org/2000/svg\" height=\"24px\"viewBox=\"0 0 24 24\"\n",
              "       width=\"24px\">\n",
              "    <path d=\"M0 0h24v24H0V0z\" fill=\"none\"/>\n",
              "    <path d=\"M18.56 5.44l.94 2.06.94-2.06 2.06-.94-2.06-.94-.94-2.06-.94 2.06-2.06.94zm-11 1L8.5 8.5l.94-2.06 2.06-.94-2.06-.94L8.5 2.5l-.94 2.06-2.06.94zm10 10l.94 2.06.94-2.06 2.06-.94-2.06-.94-.94-2.06-.94 2.06-2.06.94z\"/><path d=\"M17.41 7.96l-1.37-1.37c-.4-.4-.92-.59-1.43-.59-.52 0-1.04.2-1.43.59L10.3 9.45l-7.72 7.72c-.78.78-.78 2.05 0 2.83L4 21.41c.39.39.9.59 1.41.59.51 0 1.02-.2 1.41-.59l7.78-7.78 2.81-2.81c.8-.78.8-2.07 0-2.86zM5.41 20L4 18.59l7.72-7.72 1.47 1.35L5.41 20z\"/>\n",
              "  </svg>\n",
              "      </button>\n",
              "      \n",
              "  <style>\n",
              "    .colab-df-container {\n",
              "      display:flex;\n",
              "      flex-wrap:wrap;\n",
              "      gap: 12px;\n",
              "    }\n",
              "\n",
              "    .colab-df-convert {\n",
              "      background-color: #E8F0FE;\n",
              "      border: none;\n",
              "      border-radius: 50%;\n",
              "      cursor: pointer;\n",
              "      display: none;\n",
              "      fill: #1967D2;\n",
              "      height: 32px;\n",
              "      padding: 0 0 0 0;\n",
              "      width: 32px;\n",
              "    }\n",
              "\n",
              "    .colab-df-convert:hover {\n",
              "      background-color: #E2EBFA;\n",
              "      box-shadow: 0px 1px 2px rgba(60, 64, 67, 0.3), 0px 1px 3px 1px rgba(60, 64, 67, 0.15);\n",
              "      fill: #174EA6;\n",
              "    }\n",
              "\n",
              "    [theme=dark] .colab-df-convert {\n",
              "      background-color: #3B4455;\n",
              "      fill: #D2E3FC;\n",
              "    }\n",
              "\n",
              "    [theme=dark] .colab-df-convert:hover {\n",
              "      background-color: #434B5C;\n",
              "      box-shadow: 0px 1px 3px 1px rgba(0, 0, 0, 0.15);\n",
              "      filter: drop-shadow(0px 1px 2px rgba(0, 0, 0, 0.3));\n",
              "      fill: #FFFFFF;\n",
              "    }\n",
              "  </style>\n",
              "\n",
              "      <script>\n",
              "        const buttonEl =\n",
              "          document.querySelector('#df-cf3443dd-740e-4433-87c1-54492e1b036f button.colab-df-convert');\n",
              "        buttonEl.style.display =\n",
              "          google.colab.kernel.accessAllowed ? 'block' : 'none';\n",
              "\n",
              "        async function convertToInteractive(key) {\n",
              "          const element = document.querySelector('#df-cf3443dd-740e-4433-87c1-54492e1b036f');\n",
              "          const dataTable =\n",
              "            await google.colab.kernel.invokeFunction('convertToInteractive',\n",
              "                                                     [key], {});\n",
              "          if (!dataTable) return;\n",
              "\n",
              "          const docLinkHtml = 'Like what you see? Visit the ' +\n",
              "            '<a target=\"_blank\" href=https://colab.research.google.com/notebooks/data_table.ipynb>data table notebook</a>'\n",
              "            + ' to learn more about interactive tables.';\n",
              "          element.innerHTML = '';\n",
              "          dataTable['output_type'] = 'display_data';\n",
              "          await google.colab.output.renderOutput(dataTable, element);\n",
              "          const docLink = document.createElement('div');\n",
              "          docLink.innerHTML = docLinkHtml;\n",
              "          element.appendChild(docLink);\n",
              "        }\n",
              "      </script>\n",
              "    </div>\n",
              "  </div>\n",
              "  "
            ]
          },
          "metadata": {},
          "execution_count": 32
        }
      ]
    },
    {
      "cell_type": "code",
      "source": [
        "# to view its column \n",
        "x_test_dummy_features = x_train_dummy.columns\n",
        "x_test_dummy_features"
      ],
      "metadata": {
        "colab": {
          "base_uri": "https://localhost:8080/"
        },
        "id": "gpN_BT8H7lB2",
        "outputId": "6d1f9a95-348b-4ad4-91d9-2c20627b3a2e"
      },
      "execution_count": null,
      "outputs": [
        {
          "output_type": "execute_result",
          "data": {
            "text/plain": [
              "Index(['Pregnancies', 'Glucose', 'BloodPressure', 'SkinThickness', 'Insulin',\n",
              "       'BMI', 'DiabetesPedigreeFunction', 'Age'],\n",
              "      dtype='object')"
            ]
          },
          "metadata": {},
          "execution_count": 33
        }
      ]
    },
    {
      "cell_type": "markdown",
      "source": [
        "### 2.2.8 Creating Equation & Evaluate its Perfomance"
      ],
      "metadata": {
        "id": "5NiYjs13u5ix"
      }
    },
    {
      "cell_type": "markdown",
      "source": [
        "#### 2.2.8.1 General Form (Pure Logistic Equation)\n",
        "\n",
        "- Without any Penalty (No Ridge or Lasso)"
      ],
      "metadata": {
        "id": "FflIbRbfy0EO"
      }
    },
    {
      "cell_type": "code",
      "source": [
        "# create a logistic equation\n",
        "# start with general form \n",
        "LR_classification_none_01 = LogisticRegression(penalty='none', max_iter = 300 , solver = 'newton-cg')\n",
        "LR_classification_none_01 .fit(x_train_dummy , y_train)\n",
        "\n",
        "LR_classification_none_02 = LogisticRegression(penalty='none', max_iter = 300 , solver = 'lbfgs')\n",
        "LR_classification_none_02 .fit(x_train_dummy , y_train)\n",
        "\n",
        "LR_classification_none_03 = LogisticRegression(penalty='none', max_iter = 300 , solver = 'sag')\n",
        "LR_classification_none_03 .fit(x_train_dummy , y_train)\n",
        "\n",
        "LR_classification_none_04 = LogisticRegression(penalty='none', max_iter = 300 , solver = 'saga')\n",
        "LR_classification_none_04 .fit(x_train_dummy , y_train)\n"
      ],
      "metadata": {
        "colab": {
          "base_uri": "https://localhost:8080/"
        },
        "id": "TjoGJYrpj4Fb",
        "outputId": "082e217a-1a7d-4d29-b9d6-2fa71aa4b5ac"
      },
      "execution_count": null,
      "outputs": [
        {
          "output_type": "execute_result",
          "data": {
            "text/plain": [
              "LogisticRegression(max_iter=300, penalty='none', solver='saga')"
            ]
          },
          "metadata": {},
          "execution_count": 70
        }
      ]
    },
    {
      "cell_type": "code",
      "source": [
        "# input x_test to our equation to predict y\n",
        "y_pred_none_01 = LR_classification_none_01.predict(x_test_dummy)\n",
        "y_pred_none_02 = LR_classification_none_02.predict(x_test_dummy)\n",
        "y_pred_none_03 = LR_classification_none_03.predict(x_test_dummy)\n",
        "y_pred_none_04 = LR_classification_none_04.predict(x_test_dummy)\n",
        "\n",
        "print(\"Result for Newton-cg without Penalty variables :\\n\")\n",
        "print(y_pred_none_01, \"\\n\")\n",
        "\n",
        "print(\"Result for  lbfgs without Penalty variables :\\n\")\n",
        "print(y_pred_none_02, \"\\n\")\n",
        "\n",
        "print(\"Result for  sag without Penalty variables :\\n\")\n",
        "print(y_pred_none_03, \"\\n\")\n",
        "\n",
        "print(\"Result for saga without Penalty variables :\\n\")\n",
        "print(y_pred_none_04, \"\\n\")\n"
      ],
      "metadata": {
        "colab": {
          "base_uri": "https://localhost:8080/"
        },
        "id": "W3YBbC1BlliC",
        "outputId": "95bd8ed7-adf1-477e-f4e2-975436030d24"
      },
      "execution_count": null,
      "outputs": [
        {
          "output_type": "stream",
          "name": "stdout",
          "text": [
            "Result for Newton-cg without Penalty variables :\n",
            "\n",
            "[0 0 0 1 0 0 0 0 0 0 0 0 0 0 0 1 1 0 1 1 1 0 0 0 0 1 0 0 0 0 0 0 0 0 0 1 0\n",
            " 1 0 0 0 0 1 0 0 0 1 0 1 1 0 0 0 0 0 1 0 0 0 0 0 0 0 0 0 1 1 0 0 1 0 1 0 1\n",
            " 0 1 0 0 0 0 0 0 0 0 0 0 0 0 0 0 0 0 0 0 0 0 1 0 0 1 0 0 0 0 0 0 1 0 1 1 0\n",
            " 0 0 0 1 0 0 0 0 0 0 0 1 0 1 0 0 0 0 0 1 0 0 1 1 1 0 0 0 1 0 0 0 0 1 0 1 0\n",
            " 1 0 0 1 0 0] \n",
            "\n",
            "Result for  lbfgs without Penalty variables :\n",
            "\n",
            "[0 0 0 1 0 0 0 0 0 0 0 0 0 0 0 1 1 0 1 1 1 0 0 0 0 1 0 0 0 0 0 0 0 0 0 1 0\n",
            " 1 0 0 0 0 1 0 0 0 1 0 1 1 0 0 0 0 0 1 0 0 0 0 0 0 0 0 0 1 1 0 0 1 0 1 0 1\n",
            " 0 1 0 0 0 0 0 0 0 0 0 0 0 0 0 0 0 0 0 0 0 0 1 0 0 1 0 0 0 0 0 0 1 0 1 1 0\n",
            " 0 0 0 1 0 0 0 0 0 0 0 1 0 1 0 0 0 0 0 1 0 0 1 1 1 0 0 0 1 0 0 0 0 1 0 1 0\n",
            " 1 0 0 1 0 0] \n",
            "\n",
            "Result for  sag without Penalty variables :\n",
            "\n",
            "[0 0 0 0 0 0 0 0 0 0 0 0 0 1 1 0 0 0 0 0 0 0 0 0 0 0 0 0 0 1 0 0 0 0 0 0 0\n",
            " 0 0 0 0 0 0 0 0 0 1 0 1 0 0 1 0 0 0 0 0 0 0 0 0 0 0 0 0 0 0 0 0 1 0 1 0 0\n",
            " 0 1 0 0 0 0 0 0 0 0 1 0 0 0 0 1 0 0 0 0 0 0 1 0 0 1 0 0 0 0 1 0 1 0 1 1 0\n",
            " 0 0 0 1 1 0 0 0 0 0 1 0 0 1 0 0 0 0 0 1 0 0 0 0 0 1 0 1 1 0 0 0 0 0 0 0 0\n",
            " 0 0 0 0 0 0] \n",
            "\n",
            "Result for saga without Penalty variables :\n",
            "\n",
            "[0 0 0 0 0 0 0 0 0 0 0 0 0 1 1 0 0 0 0 0 0 0 0 0 0 0 0 0 0 1 0 0 0 0 0 0 0\n",
            " 0 0 0 0 0 0 0 0 0 0 0 1 0 0 1 0 0 0 0 0 0 0 0 0 0 0 0 0 0 0 0 0 0 0 1 0 0\n",
            " 0 1 0 0 0 0 0 0 0 0 1 0 0 0 0 0 0 0 0 0 0 0 1 0 0 1 0 0 0 0 1 0 1 0 1 1 0\n",
            " 0 0 0 1 1 0 0 1 0 0 1 0 0 0 0 0 0 0 0 1 0 0 0 0 0 1 0 1 1 0 0 0 0 0 0 0 0\n",
            " 0 0 0 0 0 0] \n",
            "\n"
          ]
        }
      ]
    },
    {
      "cell_type": "code",
      "source": [
        "# to view result confusion matrix \n",
        "print(\"Result for Newton-cg without Penalty variables :\\n\")\n",
        "print(confusion_matrix(y_test,y_pred_none_01))\n",
        "\n",
        "print(\"Result for  lbfgs without Penalty variables :\\n\")\n",
        "print(confusion_matrix(y_test,y_pred_none_02))\n",
        "\n",
        "print(\"Result for  sag without Penalty variables :\\n\")\n",
        "print(confusion_matrix(y_test,y_pred_none_03))\n",
        "\n",
        "print(\"Result for saga without Penalty variables :\\n\")\n",
        "print(confusion_matrix(y_test,y_pred_none_04))"
      ],
      "metadata": {
        "colab": {
          "base_uri": "https://localhost:8080/"
        },
        "id": "Q9rzQ7z9J5vy",
        "outputId": "aab94884-1c8d-467b-c266-854e66a03631"
      },
      "execution_count": null,
      "outputs": [
        {
          "output_type": "stream",
          "name": "stdout",
          "text": [
            "Result for Newton-cg without Penalty variables :\n",
            "\n",
            "[[86  9]\n",
            " [31 28]]\n",
            "Result for  lbfgs without Penalty variables :\n",
            "\n",
            "[[86  9]\n",
            " [31 28]]\n",
            "Result for  sag without Penalty variables :\n",
            "\n",
            "[[85 10]\n",
            " [44 15]]\n",
            "Result for saga without Penalty variables :\n",
            "\n",
            "[[86  9]\n",
            " [46 13]]\n"
          ]
        }
      ]
    },
    {
      "cell_type": "code",
      "source": [
        "# to view model performance (compare between y_test & y predicted from our equation)\n",
        "\n",
        "print(\"01. % Result for Newton-cg without Penalty variables :\\n\")\n",
        "print(classification_report(y_test,y_pred_none_01),\"\\n\")\n",
        "LR_predict_acc = accuracy_score(y_test,y_pred_none_01)\n",
        "print('LR Accuracy {:.2f}%'.format(LR_predict_acc*100))\n",
        "print(\"------------------------------------------------------------\\n\")\n",
        "\n",
        "print(\"02. % Result for  lbfgs without Penalty variables :\\n\")\n",
        "print(classification_report(y_test,y_pred_none_02),\"\\n\")\n",
        "LR_predict_acc = accuracy_score(y_test,y_pred_none_02)\n",
        "print('LR Accuracy {:.2f}%'.format(LR_predict_acc*100))\n",
        "print(\"------------------------------------------------------------\\n\")\n",
        "\n",
        "print(\"03. % Result for  sag without Penalty variables :\\n\")\n",
        "print(classification_report(y_test,y_pred_none_03),\"\\n\")\n",
        "LR_predict_acc = accuracy_score(y_test,y_pred_none_03)\n",
        "print('LR Accuracy {:.2f}%'.format(LR_predict_acc*100))\n",
        "print(\"------------------------------------------------------------\\n\")\n",
        "\n",
        "print(\"04. % Result for saga without Penalty variables :\\n\")\n",
        "print(classification_report(y_test,y_pred_none_04),\"\\n\")\n",
        "LR_predict_acc = accuracy_score(y_test,y_pred_none_04)\n",
        "print('LR Accuracy {:.2f}%'.format(LR_predict_acc*100))\n",
        "print(\"------------------------------------------------------------\\n\")"
      ],
      "metadata": {
        "colab": {
          "base_uri": "https://localhost:8080/"
        },
        "id": "ulIniJvWJP7N",
        "outputId": "5e7b163f-8123-49eb-c0a9-9851e9d6a5d3"
      },
      "execution_count": null,
      "outputs": [
        {
          "output_type": "stream",
          "name": "stdout",
          "text": [
            "01. % Result for Newton-cg without Penalty variables :\n",
            "\n",
            "              precision    recall  f1-score   support\n",
            "\n",
            "           0       0.74      0.91      0.81        95\n",
            "           1       0.76      0.47      0.58        59\n",
            "\n",
            "    accuracy                           0.74       154\n",
            "   macro avg       0.75      0.69      0.70       154\n",
            "weighted avg       0.74      0.74      0.72       154\n",
            " \n",
            "\n",
            "LR Accuracy 74.03%\n",
            "------------------------------------------------------------\n",
            "\n",
            "02. % Result for  lbfgs without Penalty variables :\n",
            "\n",
            "              precision    recall  f1-score   support\n",
            "\n",
            "           0       0.74      0.91      0.81        95\n",
            "           1       0.76      0.47      0.58        59\n",
            "\n",
            "    accuracy                           0.74       154\n",
            "   macro avg       0.75      0.69      0.70       154\n",
            "weighted avg       0.74      0.74      0.72       154\n",
            " \n",
            "\n",
            "LR Accuracy 74.03%\n",
            "------------------------------------------------------------\n",
            "\n",
            "03. % Result for  sag without Penalty variables :\n",
            "\n",
            "              precision    recall  f1-score   support\n",
            "\n",
            "           0       0.66      0.89      0.76        95\n",
            "           1       0.60      0.25      0.36        59\n",
            "\n",
            "    accuracy                           0.65       154\n",
            "   macro avg       0.63      0.57      0.56       154\n",
            "weighted avg       0.64      0.65      0.60       154\n",
            " \n",
            "\n",
            "LR Accuracy 64.94%\n",
            "------------------------------------------------------------\n",
            "\n",
            "04. % Result for saga without Penalty variables :\n",
            "\n",
            "              precision    recall  f1-score   support\n",
            "\n",
            "           0       0.65      0.91      0.76        95\n",
            "           1       0.59      0.22      0.32        59\n",
            "\n",
            "    accuracy                           0.64       154\n",
            "   macro avg       0.62      0.56      0.54       154\n",
            "weighted avg       0.63      0.64      0.59       154\n",
            " \n",
            "\n",
            "LR Accuracy 64.29%\n",
            "------------------------------------------------------------\n",
            "\n"
          ]
        }
      ]
    },
    {
      "cell_type": "markdown",
      "source": [
        "#### 2.2.8.2 General Form + L1 (Lasso Regression)"
      ],
      "metadata": {
        "id": "llUqk_LPPqlL"
      }
    },
    {
      "cell_type": "code",
      "source": [
        "# create a logistic equation\n",
        "# lasso \n",
        "LR_classification_l1_01 = LogisticRegression(penalty='l1', max_iter = 300 , solver = 'liblinear')\n",
        "LR_classification_l1_01 .fit(x_train_dummy , y_train)\n",
        "LR_classification_l1_02 = LogisticRegression(penalty='l1', max_iter = 300 , solver = 'saga')\n",
        "LR_classification_l1_02  .fit(x_train_dummy , y_train)\n",
        "\n",
        "\n",
        "y_pred_l1_01 = LR_classification_l1_01.predict(x_test_dummy)\n",
        "y_pred_l1_02 = LR_classification_l1_02.predict(x_test_dummy)\n",
        "\n",
        "print(\"01. Result for liblinear with Lasso Regression :\\n\")\n",
        "print(y_pred_l1_01, \"\\n\")\n",
        "\n",
        "print(\"02. Result for  saga  with Lasso Regression :\\n\")\n",
        "print(y_pred_l1_02, \"\\n\")\n",
        "print(\"------------------------------------------------------------\\n\")\n",
        "\n",
        "# to view result confusion matrix \n",
        "\n",
        "print(\"Result for liblinear with Lasso Regression :\\n\")\n",
        "print(confusion_matrix(y_test,y_pred_l1_01))\n",
        "\n",
        "print(\"Result for  saga  with Lasso Regression :\\n\")\n",
        "print(confusion_matrix(y_test,y_pred_l1_02))\n"
      ],
      "metadata": {
        "colab": {
          "base_uri": "https://localhost:8080/"
        },
        "id": "SWREvFNFH614",
        "outputId": "c16b13a2-fd03-4267-ed12-6a214d221d77"
      },
      "execution_count": null,
      "outputs": [
        {
          "output_type": "stream",
          "name": "stdout",
          "text": [
            "01. Result for liblinear with Lasso Regression :\n",
            "\n",
            "[0 0 0 1 0 0 0 0 0 0 0 0 0 0 0 1 0 0 1 1 1 0 0 0 0 1 0 0 0 0 0 0 0 0 0 1 0\n",
            " 0 0 0 0 0 1 0 0 0 1 0 1 1 0 0 0 0 0 1 0 0 0 0 0 0 0 0 0 1 1 0 0 1 0 1 0 1\n",
            " 0 1 0 0 0 0 0 0 0 0 0 0 0 0 0 0 0 0 0 0 0 0 1 0 0 1 0 0 0 0 0 0 1 0 1 1 0\n",
            " 0 0 0 1 0 0 0 0 0 0 0 1 0 1 0 0 0 0 0 1 0 0 1 1 1 0 0 0 1 0 0 0 0 1 0 0 0\n",
            " 1 0 0 1 0 0] \n",
            "\n",
            "02. Result for  saga  with Lasso Regression :\n",
            "\n",
            "[0 0 0 0 0 0 0 0 0 0 0 0 0 1 1 0 0 0 0 0 0 0 0 0 0 0 0 0 0 1 0 0 0 0 0 0 0\n",
            " 0 0 0 0 0 0 0 0 0 0 0 1 0 0 1 0 0 0 0 0 0 0 0 0 0 0 0 0 0 0 0 0 0 0 1 0 0\n",
            " 0 1 0 0 0 0 0 0 0 0 1 0 0 0 0 0 0 0 0 0 0 0 1 0 0 1 0 0 0 0 1 0 1 0 1 1 0\n",
            " 0 0 0 1 1 0 0 1 0 0 1 0 0 0 0 0 0 0 0 1 0 0 0 0 0 1 0 1 1 0 0 0 0 0 0 0 0\n",
            " 0 0 0 0 0 0] \n",
            "\n",
            "------------------------------------------------------------\n",
            "\n",
            "Result for liblinear with Lasso Regression :\n",
            "\n",
            "[[86  9]\n",
            " [34 25]]\n",
            "Result for  saga  with Lasso Regression :\n",
            "\n",
            "[[86  9]\n",
            " [46 13]]\n"
          ]
        }
      ]
    },
    {
      "cell_type": "code",
      "source": [
        "# to view model performance (compare between y_test & y predicted from our equation)\n",
        "\n",
        "print(\"01. Result for liblinear with Lasso Regression :\\n\")\n",
        "print(classification_report(y_test,y_pred_l1_01),\"\\n\")\n",
        "LR_predict_acc = accuracy_score(y_test,y_pred_l1_01)\n",
        "print('LR Accuracy {:.2f}%'.format(LR_predict_acc*100))\n",
        "print(\"------------------------------------------------------------\\n\")\n",
        "\n",
        "print(\"02. Result for  saga  with Lasso Regression :\\n\")\n",
        "print(classification_report(y_test,y_pred_l1_02),\"\\n\")\n",
        "LR_predict_acc = accuracy_score(y_test,y_pred_l1_02)\n",
        "print('LR Accuracy {:.2f}%'.format(LR_predict_acc*100))"
      ],
      "metadata": {
        "colab": {
          "base_uri": "https://localhost:8080/"
        },
        "id": "3y9MWxj4mCLl",
        "outputId": "39a71cbc-c7ef-45ac-beb5-a24942607923"
      },
      "execution_count": null,
      "outputs": [
        {
          "output_type": "stream",
          "name": "stdout",
          "text": [
            "01. Result for liblinear with Lasso Regression :\n",
            "\n",
            "              precision    recall  f1-score   support\n",
            "\n",
            "           0       0.72      0.91      0.80        95\n",
            "           1       0.74      0.42      0.54        59\n",
            "\n",
            "    accuracy                           0.72       154\n",
            "   macro avg       0.73      0.66      0.67       154\n",
            "weighted avg       0.72      0.72      0.70       154\n",
            " \n",
            "\n",
            "LR Accuracy 72.08%\n",
            "------------------------------------------------------------\n",
            "\n",
            "02. Result for  saga  with Lasso Regression :\n",
            "\n",
            "              precision    recall  f1-score   support\n",
            "\n",
            "           0       0.65      0.91      0.76        95\n",
            "           1       0.59      0.22      0.32        59\n",
            "\n",
            "    accuracy                           0.64       154\n",
            "   macro avg       0.62      0.56      0.54       154\n",
            "weighted avg       0.63      0.64      0.59       154\n",
            " \n",
            "\n",
            "LR Accuracy 64.29%\n"
          ]
        }
      ]
    },
    {
      "cell_type": "markdown",
      "source": [
        "#### 2.2.8.3 General Form + L2 (Ridge Regression)"
      ],
      "metadata": {
        "id": "5-2DikZ0edpz"
      }
    },
    {
      "cell_type": "code",
      "source": [
        "# create a logistic equation\n",
        "# ridge form\n",
        "LR_classification_ridge_01 = LogisticRegression(penalty='l2', max_iter = 300 , solver = 'newton-cg')\n",
        "LR_classification_ridge_01 .fit(x_train_dummy , y_train)\n",
        "\n",
        "LR_classification_ridge_02 = LogisticRegression(penalty='l2', max_iter = 300 , solver = 'lbfgs')\n",
        "LR_classification_ridge_02 .fit(x_train_dummy , y_train)\n",
        "\n",
        "LR_classification_ridge_03 = LogisticRegression(penalty='l2', max_iter = 300 , solver = 'sag')\n",
        "LR_classification_ridge_03 .fit(x_train_dummy , y_train)\n",
        "\n",
        "LR_classification_ridge_04 = LogisticRegression(penalty='l2', max_iter = 300 , solver = 'saga')\n",
        "LR_classification_ridge_04 .fit(x_train_dummy , y_train)\n",
        "\n",
        "\n",
        "# input x_test to our equation to predict y\n",
        "y_pred_ridge_01 = LR_classification_ridge_01.predict(x_test_dummy)\n",
        "y_pred_ridge_02 = LR_classification_ridge_02.predict(x_test_dummy)\n",
        "y_pred_ridge_03 = LR_classification_ridge_03.predict(x_test_dummy)\n",
        "y_pred_ridge_04 = LR_classification_ridge_04.predict(x_test_dummy)\n",
        "\n",
        "\n",
        "print(\"Result for Newton-cg with Ridge Regression :\\n\")\n",
        "print(y_pred_ridge_01, \"\\n\")\n",
        "\n",
        "print(\"Result for  lbfgs with Ridge Regressio :\\n\")\n",
        "print(y_pred_ridge_02, \"\\n\")\n",
        "\n",
        "print(\"Result for  sag with Ridge Regressio :\\n\")\n",
        "print(y_pred_ridge_03, \"\\n\")\n",
        "\n",
        "print(\"Result for saga with Ridge Regressio :\\n\")\n",
        "print(y_pred_ridge_04, \"\\n\")\n",
        "\n",
        "\n",
        "# to view confusion matrix\n",
        "print(\"Result for Newton-cg with Ridge Regression :\\n\")\n",
        "print(confusion_matrix(y_test,y_pred_ridge_01))\n",
        "\n",
        "print(\"Result for  lbfgs with Ridge Regression :\\n\")\n",
        "print(confusion_matrix(y_test,y_pred_ridge_02))\n",
        "\n",
        "print(\"Result for  sag with Ridge Regression :\\n\")\n",
        "print(confusion_matrix(y_test,y_pred_ridge_03))\n",
        "\n",
        "print(\"Result for saga with Ridge Regression :\\n\")\n",
        "print(confusion_matrix(y_test,y_pred_ridge_04))"
      ],
      "metadata": {
        "colab": {
          "base_uri": "https://localhost:8080/"
        },
        "id": "9w3AtB18eoOh",
        "outputId": "3c3a664c-2e80-49cb-cddd-d810a7b67cdf"
      },
      "execution_count": null,
      "outputs": [
        {
          "output_type": "stream",
          "name": "stdout",
          "text": [
            "Result for Newton-cg with Ridge Regression :\n",
            "\n",
            "[0 0 0 1 0 0 0 0 0 0 0 0 0 0 0 1 0 0 1 1 1 0 0 0 0 1 0 0 0 0 0 0 0 0 0 1 0\n",
            " 0 0 0 0 0 1 0 0 0 1 0 1 1 0 0 0 0 0 1 0 0 0 0 0 0 0 0 0 1 1 0 0 1 0 1 0 1\n",
            " 0 1 0 0 0 0 0 0 0 0 0 0 0 0 0 0 0 0 0 0 0 0 1 0 0 1 0 0 0 0 0 0 1 0 1 1 0\n",
            " 0 0 0 1 0 0 0 0 0 0 0 1 0 1 0 0 0 0 0 1 0 0 1 1 1 0 0 0 1 0 0 0 0 1 0 1 0\n",
            " 1 0 0 1 0 0] \n",
            "\n",
            "Result for  lbfgs with Ridge Regressio :\n",
            "\n",
            "[0 0 0 1 0 0 0 0 0 0 0 0 0 0 0 1 0 0 1 1 1 0 0 0 0 1 0 0 0 0 0 0 0 0 0 1 0\n",
            " 0 0 0 0 0 1 0 0 0 1 0 1 1 0 0 0 0 0 1 0 0 0 0 0 0 0 0 0 1 1 0 0 1 0 1 0 1\n",
            " 0 1 0 0 0 0 0 0 0 0 0 0 0 0 0 0 0 0 0 0 0 0 1 0 0 1 0 0 0 0 0 0 1 0 1 1 0\n",
            " 0 0 0 1 0 0 0 0 0 0 0 1 0 1 0 0 0 0 0 1 0 0 1 1 1 0 0 0 1 0 0 0 0 1 0 1 0\n",
            " 1 0 0 1 0 0] \n",
            "\n",
            "Result for  sag with Ridge Regressio :\n",
            "\n",
            "[0 0 0 0 0 0 0 0 0 0 0 0 0 1 1 0 0 0 0 0 0 0 0 0 0 0 0 0 0 1 0 0 0 0 0 0 0\n",
            " 0 0 0 0 0 0 0 0 0 1 0 1 0 0 1 0 0 0 0 0 0 0 0 0 0 0 0 0 0 0 0 0 1 0 1 0 0\n",
            " 0 1 0 0 0 0 0 0 0 0 1 0 0 0 0 1 0 0 0 0 0 0 1 0 0 1 0 0 0 0 1 0 1 0 1 1 0\n",
            " 0 0 0 1 1 0 0 0 0 0 1 0 0 1 0 0 0 0 0 1 0 0 0 0 0 1 0 1 1 0 0 0 0 0 0 0 0\n",
            " 0 0 0 0 0 0] \n",
            "\n",
            "Result for saga with Ridge Regressio :\n",
            "\n",
            "[0 0 0 0 0 0 0 0 0 0 0 0 0 1 1 0 0 0 0 0 0 0 0 0 0 0 0 0 0 1 0 0 0 0 0 0 0\n",
            " 0 0 0 0 0 0 0 0 0 0 0 1 0 0 1 0 0 0 0 0 0 0 0 0 0 0 0 0 0 0 0 0 0 0 1 0 0\n",
            " 0 1 0 0 0 0 0 0 0 0 1 0 0 0 0 0 0 0 0 0 0 0 1 0 0 1 0 0 0 0 1 0 1 0 1 1 0\n",
            " 0 0 0 1 1 0 0 1 0 0 1 0 0 0 0 0 0 0 0 1 0 0 0 0 0 1 0 1 1 0 0 0 0 0 0 0 0\n",
            " 0 0 0 0 0 0] \n",
            "\n",
            "Result for Newton-cg with Ridge Regression :\n",
            "\n",
            "[[86  9]\n",
            " [33 26]]\n",
            "Result for  lbfgs with Ridge Regression :\n",
            "\n",
            "[[86  9]\n",
            " [33 26]]\n",
            "Result for  sag with Ridge Regression :\n",
            "\n",
            "[[85 10]\n",
            " [44 15]]\n",
            "Result for saga with Ridge Regression :\n",
            "\n",
            "[[86  9]\n",
            " [46 13]]\n"
          ]
        }
      ]
    },
    {
      "cell_type": "code",
      "source": [
        "# to view model performance (compare between y_test & y predicted from our equation)\n",
        "print(\"01. % Result for Newton-cg without Penalty variables :\\n\")\n",
        "print(classification_report(y_test,y_pred_ridge_01),\"\\n\")\n",
        "LR_predict_acc = accuracy_score(y_test,y_pred_ridge_01)\n",
        "print('LR Accuracy {:.2f}%'.format(LR_predict_acc*100))\n",
        "print(\"------------------------------------------------------------\\n\")\n",
        "\n",
        "print(\"02. % Result for  lbfgs without Penalty variables :\\n\")\n",
        "print(classification_report(y_test,y_pred_ridge_02),\"\\n\")\n",
        "LR_predict_acc = accuracy_score(y_test,y_pred_ridge_02)\n",
        "print('LR Accuracy {:.2f}%'.format(LR_predict_acc*100))\n",
        "print(\"------------------------------------------------------------\\n\")\n",
        "\n",
        "print(\"03. % Result for  sag without Penalty variables :\\n\")\n",
        "print(classification_report(y_test,y_pred_ridge_03),\"\\n\")\n",
        "LR_predict_acc = accuracy_score(y_test,y_pred_ridge_03)\n",
        "print('LR Accuracy {:.2f}%'.format(LR_predict_acc*100))\n",
        "print(\"------------------------------------------------------------\\n\")\n",
        "\n",
        "print(\"04. % Result for saga without Penalty variables :\\n\")\n",
        "print(classification_report(y_test,y_pred_ridge_04),\"\\n\")\n",
        "LR_predict_acc = accuracy_score(y_test,y_pred_ridge_04)\n",
        "print('LR Accuracy {:.2f}%'.format(LR_predict_acc*100))\n",
        "print(\"------------------------------------------------------------\\n\")"
      ],
      "metadata": {
        "colab": {
          "base_uri": "https://localhost:8080/"
        },
        "id": "q-EeZJm4gU8f",
        "outputId": "899e580a-03ae-4f82-ca8f-6fdae0193a2d"
      },
      "execution_count": null,
      "outputs": [
        {
          "output_type": "stream",
          "name": "stdout",
          "text": [
            "01. % Result for Newton-cg without Penalty variables :\n",
            "\n",
            "              precision    recall  f1-score   support\n",
            "\n",
            "           0       0.72      0.91      0.80        95\n",
            "           1       0.74      0.44      0.55        59\n",
            "\n",
            "    accuracy                           0.73       154\n",
            "   macro avg       0.73      0.67      0.68       154\n",
            "weighted avg       0.73      0.73      0.71       154\n",
            " \n",
            "\n",
            "LR Accuracy 72.73%\n",
            "------------------------------------------------------------\n",
            "\n",
            "02. % Result for  lbfgs without Penalty variables :\n",
            "\n",
            "              precision    recall  f1-score   support\n",
            "\n",
            "           0       0.72      0.91      0.80        95\n",
            "           1       0.74      0.44      0.55        59\n",
            "\n",
            "    accuracy                           0.73       154\n",
            "   macro avg       0.73      0.67      0.68       154\n",
            "weighted avg       0.73      0.73      0.71       154\n",
            " \n",
            "\n",
            "LR Accuracy 72.73%\n",
            "------------------------------------------------------------\n",
            "\n",
            "03. % Result for  sag without Penalty variables :\n",
            "\n",
            "              precision    recall  f1-score   support\n",
            "\n",
            "           0       0.66      0.89      0.76        95\n",
            "           1       0.60      0.25      0.36        59\n",
            "\n",
            "    accuracy                           0.65       154\n",
            "   macro avg       0.63      0.57      0.56       154\n",
            "weighted avg       0.64      0.65      0.60       154\n",
            " \n",
            "\n",
            "LR Accuracy 64.94%\n",
            "------------------------------------------------------------\n",
            "\n",
            "04. % Result for saga without Penalty variables :\n",
            "\n",
            "              precision    recall  f1-score   support\n",
            "\n",
            "           0       0.65      0.91      0.76        95\n",
            "           1       0.59      0.22      0.32        59\n",
            "\n",
            "    accuracy                           0.64       154\n",
            "   macro avg       0.62      0.56      0.54       154\n",
            "weighted avg       0.63      0.64      0.59       154\n",
            " \n",
            "\n",
            "LR Accuracy 64.29%\n",
            "------------------------------------------------------------\n",
            "\n"
          ]
        }
      ]
    },
    {
      "cell_type": "markdown",
      "source": [
        "#### 2.2.8.4 General Form with Lasso & Ridge Combined"
      ],
      "metadata": {
        "id": "otspi0dneilo"
      }
    },
    {
      "cell_type": "code",
      "source": [
        "# start to create an equation in conbined factor\n",
        "LR_classification_combined = LogisticRegression(l1_ratio =0.5 ,penalty='elasticnet', max_iter = 300 , solver = 'saga' )\n",
        "LR_classification_combined .fit(x_train_dummy , y_train)\n",
        "\n",
        "y_pred_combined = LR_classification_combined.predict(x_test_dummy)\n",
        "\n",
        "# input x_test to our equation to predict y\n",
        "print(\"Result for saga with Regulaization factor combined :\\n\")\n",
        "print(y_pred_combined , \"\\n\")\n",
        "\n",
        "\n",
        "# to view confusion matrix\n",
        "print(\"Result for saga with Regulaization factor combined :\\n\")\n",
        "print(confusion_matrix(y_test,y_pred_combined))\n",
        "\n"
      ],
      "metadata": {
        "colab": {
          "base_uri": "https://localhost:8080/"
        },
        "id": "tBozUlrbeVhs",
        "outputId": "94a2f9b4-81ba-4150-94d9-2b1c1ed34aff"
      },
      "execution_count": null,
      "outputs": [
        {
          "output_type": "stream",
          "name": "stdout",
          "text": [
            "Result for saga with Regulaization factor combined :\n",
            "\n",
            "[0 0 0 0 0 0 0 0 0 0 0 0 0 1 1 0 0 0 0 0 0 0 0 0 0 0 0 0 0 1 0 0 0 0 0 0 0\n",
            " 0 0 0 0 0 0 0 0 0 0 0 1 0 0 1 0 0 0 0 0 0 0 0 0 0 0 0 0 0 0 0 0 0 0 1 0 0\n",
            " 0 1 0 0 0 0 0 0 0 0 1 0 0 0 0 0 0 0 0 0 0 0 1 0 0 1 0 0 0 0 1 0 1 0 1 1 0\n",
            " 0 0 0 1 1 0 0 1 0 0 1 0 0 0 0 0 0 0 0 1 0 0 0 0 0 1 0 1 1 0 0 0 0 0 0 0 0\n",
            " 0 0 0 0 0 0] \n",
            "\n",
            "Result for saga with Regulaization factor combined :\n",
            "\n",
            "[[86  9]\n",
            " [46 13]]\n"
          ]
        }
      ]
    },
    {
      "cell_type": "code",
      "source": [
        "print(\"04. % Result for saga without Penalty variables :\\n\")\n",
        "print(classification_report(y_test,y_pred_combined ),\"\\n\")\n",
        "LR_predict_acc = accuracy_score(y_test,y_pred_combined)\n",
        "print('LR Accuracy {:.2f}%'.format(LR_predict_acc*100))\n",
        "print(\"------------------------------------------------------------\\n\")"
      ],
      "metadata": {
        "colab": {
          "base_uri": "https://localhost:8080/"
        },
        "id": "xLCxpjY6iSWp",
        "outputId": "608ac60f-b1ea-48b8-877c-6745223fd7fc"
      },
      "execution_count": null,
      "outputs": [
        {
          "output_type": "stream",
          "name": "stdout",
          "text": [
            "04. % Result for saga without Penalty variables :\n",
            "\n",
            "              precision    recall  f1-score   support\n",
            "\n",
            "           0       0.65      0.91      0.76        95\n",
            "           1       0.59      0.22      0.32        59\n",
            "\n",
            "    accuracy                           0.64       154\n",
            "   macro avg       0.62      0.56      0.54       154\n",
            "weighted avg       0.63      0.64      0.59       154\n",
            " \n",
            "\n",
            "LR Accuracy 64.29%\n",
            "------------------------------------------------------------\n",
            "\n"
          ]
        }
      ]
    },
    {
      "cell_type": "markdown",
      "source": [
        "#### 2.2.8.2 Selecting the best Logistic  Regression Model"
      ],
      "metadata": {
        "id": "kkAMW94-v9FL"
      }
    },
    {
      "cell_type": "markdown",
      "source": [
        "- Using `lbfgs without any penalties ` is our best method ( Higest recall : the higher recall --> the higher rate of symtom found but many model shown the good recall value so  , we must to consider at F1 score instad -- > the best model is still be same answer)"
      ],
      "metadata": {
        "id": "FIPnBpP6kPYk"
      }
    },
    {
      "cell_type": "markdown",
      "source": [
        "### 2.2.9 Interprete the logistic Regression Coefficient of your best model (in Odd form)"
      ],
      "metadata": {
        "id": "WfNEj-kR0bQr"
      }
    },
    {
      "cell_type": "code",
      "source": [
        "print(\"Result for  lbfgs without Penalty variables :\\n\")\n",
        "confusion_matrix(y_test,y_pred_none_02)"
      ],
      "metadata": {
        "colab": {
          "base_uri": "https://localhost:8080/"
        },
        "id": "0u_h6TPPxUFT",
        "outputId": "36bd29b6-992a-45af-e8a0-2874f63030f1"
      },
      "execution_count": null,
      "outputs": [
        {
          "output_type": "stream",
          "name": "stdout",
          "text": [
            "Result for  lbfgs without Penalty variables :\n",
            "\n"
          ]
        },
        {
          "output_type": "execute_result",
          "data": {
            "text/plain": [
              "array([[86,  9],\n",
              "       [31, 28]])"
            ]
          },
          "metadata": {},
          "execution_count": 135
        }
      ]
    },
    {
      "cell_type": "code",
      "source": [
        "print(\"02. % Result for  lbfgs without Penalty variables :\\n\")\n",
        "print(classification_report(y_test,y_pred_none_02),\"\\n\")\n",
        "LR_predict_acc = accuracy_score(y_test,y_pred_none_02)\n",
        "print('LR Accuracy {:.2f}%'.format(LR_predict_acc*100))"
      ],
      "metadata": {
        "id": "X97qdmG60a9k",
        "colab": {
          "base_uri": "https://localhost:8080/"
        },
        "outputId": "ba910d6c-7b3d-4c88-f469-b33a74431153"
      },
      "execution_count": null,
      "outputs": [
        {
          "output_type": "stream",
          "name": "stdout",
          "text": [
            "02. % Result for  lbfgs without Penalty variables :\n",
            "\n",
            "              precision    recall  f1-score   support\n",
            "\n",
            "           0       0.74      0.91      0.81        95\n",
            "           1       0.76      0.47      0.58        59\n",
            "\n",
            "    accuracy                           0.74       154\n",
            "   macro avg       0.75      0.69      0.70       154\n",
            "weighted avg       0.74      0.74      0.72       154\n",
            " \n",
            "\n",
            "LR Accuracy 74.03%\n"
          ]
        }
      ]
    },
    {
      "cell_type": "code",
      "source": [
        "print(\"Result for  lbfgs without Penalty variables :\\n\")\n",
        "our_matrix = confusion_matrix(y_test,y_pred_none_02)\n",
        "model_pred_diabetes_found = our_matrix[0][0]\n",
        "model_pred_diabetes_not_found = our_matrix[1][0]\n",
        "odds_model = model_pred_diabetes_found / model_pred_diabetes_not_found\n",
        "\n",
        "#actual_diabetes_found = our_matrix[0][1]\n",
        "#actual_diabetes_not_found = our_matrix[1][1]\n",
        "#odds_actual = actual_diabetes_found / actual_diabetes_not_found\n",
        "\n",
        "print(\"Odds of our best model = {:.2f} \".format(odds_model))"
      ],
      "metadata": {
        "colab": {
          "base_uri": "https://localhost:8080/"
        },
        "id": "Er5KUYmwwM1Z",
        "outputId": "43a20e37-e659-4ea2-ac0b-e1d9773099e8"
      },
      "execution_count": null,
      "outputs": [
        {
          "output_type": "stream",
          "name": "stdout",
          "text": [
            "Result for  lbfgs without Penalty variables :\n",
            "\n",
            "Odds of our best model = 2.77 \n"
          ]
        }
      ]
    },
    {
      "cell_type": "markdown",
      "source": [
        "### 2.2.10 Choose your best model for prediction"
      ],
      "metadata": {
        "id": "7PVIKQYnvQvX"
      }
    },
    {
      "cell_type": "markdown",
      "source": [
        "- the given values as shown below\n"
      ],
      "metadata": {
        "id": "ROatxJFZwR_1"
      }
    },
    {
      "cell_type": "code",
      "source": [
        "print(\"Result for  lbfgs without Penalty variables :\\n\")\n",
        "print(y_pred_none_02, \"\\n\")\n"
      ],
      "metadata": {
        "id": "8WJoJz4wwPl-",
        "colab": {
          "base_uri": "https://localhost:8080/"
        },
        "outputId": "548018c1-6eca-458c-8678-8d21cd329e4f"
      },
      "execution_count": null,
      "outputs": [
        {
          "output_type": "stream",
          "name": "stdout",
          "text": [
            "Result for  lbfgs without Penalty variables :\n",
            "\n",
            "[0 0 0 1 0 0 0 0 0 0 0 0 0 0 0 1 1 0 1 1 1 0 0 0 0 1 0 0 0 0 0 0 0 0 0 1 0\n",
            " 1 0 0 0 0 1 0 0 0 1 0 1 1 0 0 0 0 0 1 0 0 0 0 0 0 0 0 0 1 1 0 0 1 0 1 0 1\n",
            " 0 1 0 0 0 0 0 0 0 0 0 0 0 0 0 0 0 0 0 0 0 0 1 0 0 1 0 0 0 0 0 0 1 0 1 1 0\n",
            " 0 0 0 1 0 0 0 0 0 0 0 1 0 1 0 0 0 0 0 1 0 0 1 1 1 0 0 0 1 0 0 0 0 1 0 1 0\n",
            " 1 0 0 1 0 0] \n",
            "\n"
          ]
        }
      ]
    }
  ]
}