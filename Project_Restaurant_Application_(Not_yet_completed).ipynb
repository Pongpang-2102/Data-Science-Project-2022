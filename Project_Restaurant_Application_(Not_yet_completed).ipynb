{
  "nbformat": 4,
  "nbformat_minor": 0,
  "metadata": {
    "colab": {
      "name": "Project_Restaurant Application (Not yet completed).ipynb",
      "provenance": [],
      "collapsed_sections": [],
      "authorship_tag": "ABX9TyM8V0GEHg58c9RFqOv96IEC",
      "include_colab_link": true
    },
    "kernelspec": {
      "name": "python3",
      "display_name": "Python 3"
    },
    "language_info": {
      "name": "python"
    }
  },
  "cells": [
    {
      "cell_type": "markdown",
      "metadata": {
        "id": "view-in-github",
        "colab_type": "text"
      },
      "source": [
        "<a href=\"https://colab.research.google.com/github/Pongpang-2102/Data-Science-Project-2022/blob/main/Project_Restaurant_Application_(Not_yet_completed).ipynb\" target=\"_parent\"><img src=\"https://colab.research.google.com/assets/colab-badge.svg\" alt=\"Open In Colab\"/></a>"
      ]
    },
    {
      "cell_type": "markdown",
      "source": [
        "# The God Hands \n",
        "\n",
        "## All taste made by God !!! \n",
        "### The high class Yakiniku & Eastern Cuisine \n",
        "\n",
        "\n",
        " \n",
        "\n",
        "อร่อยระดับก๊อด แค่ได้ชิมก็เหมือนขึ้นสวรรค์"
      ],
      "metadata": {
        "id": "TZcXn-vqYGHd"
      }
    },
    {
      "cell_type": "markdown",
      "source": [
        "## 01_General Info"
      ],
      "metadata": {
        "id": "Z6IWuJ9XuhMn"
      }
    },
    {
      "cell_type": "markdown",
      "source": [
        "- Restaurant Owner : Puriwat Sangrawee \n",
        "- Contact email : puriwat_sangrawee@hotmail.com\n",
        "- Date Completed : 10-Aug-22"
      ],
      "metadata": {
        "id": "VOCOw_MIgtBy"
      }
    },
    {
      "cell_type": "markdown",
      "source": [
        "## 02_Requirement given :\n",
        "\n",
        "- Create class : Restaurant\n",
        "- minimum 5 methods : try to think about important things for starting restaurant business"
      ],
      "metadata": {
        "id": "Y3n13NZ_gNh2"
      }
    },
    {
      "cell_type": "markdown",
      "source": [
        "## 03_Selecting topics\n",
        "\n",
        "Narrowing your interests for starting restaurant business , our selected topic are shown in below detail\n",
        "\n",
        "- 3.1 **Employee info**  --> Employee ID , Firstname , Lastname , Sex , Age , Position\n",
        "- 3.2 **Menu Info** -- > Menu ID , Menu name , unit Price , Category\n",
        "- 3.3 **Customer** --> Customer name\n",
        "- 3.4 **Order** -- > Queue No.\n",
        "- 3.5 **Payment** -- > total amounts & change + point received\n",
        "- 3.6 **Take Away order** --> combine topic 3.2 - 3.6\n",
        "\n",
        "\n",
        "\n",
        "\n",
        "\n",
        "\n",
        "\n",
        "\n",
        "\n",
        "(those topics will be converted to be method in restaurant class later)"
      ],
      "metadata": {
        "id": "ivukqCa3uzQ5"
      }
    },
    {
      "cell_type": "markdown",
      "source": [
        "## 04_Creating class / method for Restaurant"
      ],
      "metadata": {
        "id": "huLd6RHAJvxo"
      }
    },
    {
      "cell_type": "markdown",
      "source": [
        " this part , we will create  OOP class using info in topic 3 (3.1-3.5)"
      ],
      "metadata": {
        "id": "8DZv6S7jKAAp"
      }
    },
    {
      "cell_type": "code",
      "source": [
        "# use random to generate code for take away order or delivery\n",
        "import random"
      ],
      "metadata": {
        "id": "95mehzppw3sv"
      },
      "execution_count": null,
      "outputs": []
    },
    {
      "cell_type": "code",
      "source": [
        "# creating Class : God_hand_restaurant\n",
        "\n",
        "class Restaurant:\n",
        "    def __init__(self, restaurant_name : str ) :\n",
        "        self.queue = 0\n",
        "        self.restaurant_name = restaurant_name \n",
        "        self.menu = {}\n",
        "        self.order = {}\n",
        "        self.total_price = 0\n",
        "\n",
        "\n",
        "# 1. ask for booking a queue\n",
        "\n",
        "    def booking_queue (self):\n",
        "        print(\"Welcome to The God Hands !! : All taste made by god\")\n",
        "        print(\"--------------------------------------------------\")\n",
        "        print(\"This is our Booking queue system\\n\"\n",
        "              \"-------------------------------------------------\\n\")\n",
        "        book_need = \"\"\n",
        "        global customer_name  \n",
        "        global people_in_table           \n",
        "\n",
        "        while book_need != 'y' or book_need != 'n' :\n",
        "            book_need = input(\"Do you want to book a queue ? (y - yes /n - no) : \")\n",
        "\n",
        "            if  book_need == 'y'  :\n",
        "\n",
        "                customer_name = input(\" Kindly type your name : \")\n",
        "                customer_phone_number  = input(\"Kindly type your mobile phone number : \")\n",
        "                people_in_table = int(input(\"Kindly type number of people come with you : \"))\n",
        "                self.queue += 1\n",
        "\n",
        "                print(\"--------------------------------------------------\")   \n",
        "                print(f\" Dear our valued customer , K. {customer_name}\\n\"       \n",
        "                    f\" Congratulations !!! your queue is {self.queue} \") \n",
        "                print(\"--------------------------------------------------\")   \n",
        "                print(\"Please be noted that : \\n\"\n",
        "                    \"when you are the first queue , \\n\"\n",
        "                    \"if you are not be in place after 15 sec that you are called from us\\n\"\n",
        "                    \"your queue will be canceled automatically\")\n",
        "                break\n",
        "                \n",
        "            elif book_need == 'n' :\n",
        "                print(\" We hope that we will give you a God Dish soon !!!\\n\"\n",
        "                    \" Please come back again \")\n",
        "                break\n",
        "                \n",
        "            else :\n",
        "                print(\"Incorrect input , Please try again\")\n",
        "\n",
        "# 2. Welcome customer & table selection : \n",
        "\n",
        "    def greeting(self):\n",
        "\n",
        "        print(f\"Welcome K.{customer_name} to The God Hands restaurant. All tase made by GOD!!!\\n\"\n",
        "               \"The high class Yakiniku & Eastern Cuisine \\n\"\n",
        "               \"อร่อยระดับก๊อด แค่ได้ชิมก็เหมือนขึ้นสวรรค์\\n\\n\\n\")\n",
        "        prefered_table =\"\"\n",
        "\n",
        "        while prefered_table != 'y' or prefered_table != 'n' :\n",
        "            prefered_table = input(\"Do you have a prefered table in our restaurant ? (y/n) \")\n",
        "\n",
        "            if prefered_table == 'y' :\n",
        "                print(\"The staff will leads you to that table.\")\n",
        "                break\n",
        "\n",
        "            elif prefered_table == 'n':\n",
        "                print(\"Let me recommend position that suited for you\")\n",
        "                global random_table \n",
        "                if people_in_table == 1 :\n",
        "                    random_table = random.randint(1,3)\n",
        "                    print(f\"your table is {random_table} \")\n",
        "                    break\n",
        "\n",
        "                elif people_in_table >= 2 and people_in_table <= 6 :\n",
        "                    random_table = random.randint(4,23)\n",
        "                    print(f\"your table is {random_table} \")\n",
        "                    break\n",
        "                elif people_in_table > 6 and people_in_table <= 10:\n",
        "                    random_table = random.randint(24,29)\n",
        "                    print(f\"your table is {random_table} \")\n",
        "                    break\n",
        "                elif people_in_table > 10 and people_in_table <= 16 :\n",
        "                    random_table = 30\n",
        "                    print(f\"your table is {random_table} \")\n",
        "                    break\n",
        "\n",
        "                elif people_in_table >= 16 :\n",
        "                    (\"Please contact to our staff for table allocation that suited for you\")\n",
        "                    break\n",
        "                else :\n",
        "                    print(\"Incorrect input , Please try again\")\n",
        "\n",
        "            else :\n",
        "                print(\"Incorrect input , Please try again\")\n",
        "\n",
        "    \n",
        "    # มาทำต่อด้วย **************\n",
        "    def order_menu(self) :\n",
        "        print(\"plese view our menu and select as you needed\")\n",
        "\n",
        "        input(\"do you want to view menu detail before order\")\n",
        "\n",
        "\n",
        "\n",
        "        input(\"confirm this order ? (y/n)\")\n",
        "\n",
        "# 3.  Viewing menu & confirm order\n",
        "\n",
        "\n",
        "\n",
        "\n",
        "\n",
        "\n",
        "# 4. Checking bill\n",
        "\n",
        "\n",
        "\n",
        "\n",
        "# 5.  Payment\n",
        "# 5.1 by Cash\n",
        "\n",
        "\n",
        "\n",
        "\n",
        "# 5.2 by credit card\n",
        "\n",
        "\n",
        "\n",
        "\n",
        "# 6. take away order\n",
        "\n",
        "\n",
        "\n",
        "\n",
        "# 7. Restaurant customer evaluation\n",
        "\n",
        "\n",
        "\n",
        "\n",
        "\n",
        "\n",
        "\n"
      ],
      "metadata": {
        "id": "u6OEGSnUJ4Yi"
      },
      "execution_count": null,
      "outputs": []
    },
    {
      "cell_type": "code",
      "source": [
        "# create a menu in Restaurant using dictionary\n"
      ],
      "metadata": {
        "id": "Brf33zQBxOnH"
      },
      "execution_count": null,
      "outputs": []
    },
    {
      "cell_type": "code",
      "source": [
        "menus = { 1 : { \"menu_name\" :                    }\n",
        "\n",
        "\n",
        "\n",
        "\n",
        "\n",
        "}\n",
        "\n",
        "\n",
        "\n",
        "menu = {1 : {\"name\" : \"Fried rice\", \"price\" : 120},\n",
        "        2 : {\"name\" : \"Baked rice with pineapple served in a pineapple\" , \"price\" : 250},\n",
        "        3 : {\"name\" : \"Fried rice with Chicken\", \"price\" : 120},\n",
        "        4 : {\"name\" : \"Sweet rice in bamboo\", \"price\" : 80},\n",
        "        5 : {\"name\" : \"Chiang Mai noodles\", \"price\" : 150},\n",
        "        6 : {\"name\" : \"Fried rice with Lobster\", \"price\" : 320}}"
      ],
      "metadata": {
        "id": "BYVu28FXLja0"
      },
      "execution_count": null,
      "outputs": []
    },
    {
      "cell_type": "code",
      "source": [
        "# specify name in class restaurant \"The God Hands\" \n",
        "# and create it as a new instance named by customer name\n",
        "\n",
        "# in this case , I will be using \"Pongpang\" my nickname to create the first instance\n",
        "Pongpang  = Restaurant(\"The God hands\")"
      ],
      "metadata": {
        "id": "X04XSJYDUuUO"
      },
      "execution_count": null,
      "outputs": []
    },
    {
      "cell_type": "markdown",
      "source": [
        ""
      ],
      "metadata": {
        "id": "oMuL0KWYduY9"
      }
    },
    {
      "cell_type": "code",
      "source": [
        "Pongpang.booking_queue()"
      ],
      "metadata": {
        "colab": {
          "base_uri": "https://localhost:8080/"
        },
        "id": "c1Slp1yGVcCI",
        "outputId": "4c5e7139-93a3-4d39-fc62-ba5667151796"
      },
      "execution_count": null,
      "outputs": [
        {
          "output_type": "stream",
          "name": "stdout",
          "text": [
            "Welcome to The God Hands !! : All taste made by god\n",
            "--------------------------------------------------\n",
            "This is our Booking queue system\n",
            "-------------------------------------------------\n",
            "\n",
            "Do you want to book a queue ? (y - yes /n - no) : y\n",
            " Kindly type your name : ss\n",
            "Kindly type your mobile phone number : 0824550450\n",
            "Kindly type number of people come with you : 5\n",
            "--------------------------------------------------\n",
            " Dear our valued customer , K. ss\n",
            " Congratulations !!! your queue is 1 \n",
            "--------------------------------------------------\n",
            "Please be noted that : \n",
            "when you are the first queue , \n",
            "if you are not be in place after 15 sec that you are called from staff\n",
            "your queue will be canceled automatically\n"
          ]
        }
      ]
    },
    {
      "cell_type": "code",
      "source": [
        "Pongpang.greeting()"
      ],
      "metadata": {
        "colab": {
          "base_uri": "https://localhost:8080/"
        },
        "id": "XGDL_v_ZY1o2",
        "outputId": "959f2f02-1104-4863-a404-00f8e3c523c6"
      },
      "execution_count": null,
      "outputs": [
        {
          "output_type": "stream",
          "name": "stdout",
          "text": [
            "Welcome K.ss to The God Hands restaurant. All tase made by GOD!!!\n",
            "The high class Yakiniku & Eastern Cuisine \n",
            "อร่อยระดับก๊อด แค่ได้ชิมก็เหมือนขึ้นสวรรค์\n",
            "\n",
            "\n",
            "\n",
            "Do you have a prefered table in our restaurant ? (y/n) n\n",
            "Let me recommend position that suited for you\n",
            "your table is 14 \n"
          ]
        }
      ]
    },
    {
      "cell_type": "code",
      "source": [
        ""
      ],
      "metadata": {
        "id": "-JEmrfGnY1n3"
      },
      "execution_count": null,
      "outputs": []
    },
    {
      "cell_type": "markdown",
      "source": [
        "## 05_Creating Menu"
      ],
      "metadata": {
        "id": "tK-mNVH-t3e3"
      }
    },
    {
      "cell_type": "code",
      "source": [
        ""
      ],
      "metadata": {
        "id": "0FGA-W74LjZ5"
      },
      "execution_count": null,
      "outputs": []
    },
    {
      "cell_type": "markdown",
      "source": [
        "## 06_Object Execution"
      ],
      "metadata": {
        "id": "w5BrAe4wuzPs"
      }
    },
    {
      "cell_type": "markdown",
      "source": [
        "Starting with warn Welcome !!!"
      ],
      "metadata": {
        "id": "JjulzDk6uZF_"
      }
    },
    {
      "cell_type": "markdown",
      "source": [
        ""
      ],
      "metadata": {
        "id": "m4khFXxFuZFE"
      }
    },
    {
      "cell_type": "code",
      "source": [
        ""
      ],
      "metadata": {
        "id": "x1j4dm4HuYUj"
      },
      "execution_count": null,
      "outputs": []
    },
    {
      "cell_type": "markdown",
      "source": [
        ""
      ],
      "metadata": {
        "id": "uFSMSnUwgOBK"
      }
    }
  ]
}